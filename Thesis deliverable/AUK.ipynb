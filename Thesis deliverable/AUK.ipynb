{
 "cells": [
  {
   "cell_type": "markdown",
   "id": "cef81f2a-ef0b-4a86-80b4-10170754760d",
   "metadata": {},
   "source": [
    "# AUK\n",
    "\n",
    "This notebook is used to calculate and plot the AUK and kappa curves for a single combination so that I can use it as an example in the thesis report. In short:\n",
    "- Calculate class seperation for all *r* values, meaning all unique prediction values made by the model for the test set that are used as boundary value.\n",
    "- Highest kappa value is then used to determine the best seperating threshold\n",
    "\n",
    "Then when the best seperating threshold is found, the performance is calculated on that specific threshold.\n",
    "\n",
    "### General functions and imports"
   ]
  },
  {
   "cell_type": "code",
   "execution_count": 27,
   "id": "e0067bb2-244a-4e64-b7af-ee8172a30a71",
   "metadata": {},
   "outputs": [],
   "source": [
    "import pandas as pd\n",
    "import numpy as np\n",
    "np.set_printoptions(suppress=True)\n",
    "import os\n",
    "from glob import glob\n",
    "from other_lib.general_functions import prepare_dataset_for_model, image_encoder_cv\n",
    "from other_lib.model_builder import create_transformer_from_h5\n",
    "from other_lib import globalvar\n",
    "from other_lib.auk_score import AUK\n",
    "from tensorflow.keras import models, backend, regularizers\n",
    "from ast import literal_eval\n",
    "\n",
    "import plotly.express as px\n",
    "\n",
    "def find_all_csv_locations_auk():\n",
    "    # make a list of all csv files\n",
    "    data_folder = 'C:\\\\Users\\\\20190337\\\\Downloads\\Tracebook_v2 (Projectfolder)\\\\encoded_logs\\\\' #define folder where all encoded logs are stored\n",
    "    file_extension = '*.csv' #define file extension\n",
    "    all_csv_files = [] #store csv files in this list\n",
    "    for path, subdir, files in os.walk(data_folder):\n",
    "        for file in glob(os.path.join(path, file_extension)):\n",
    "            all_csv_files.append(file)\n",
    "\n",
    "    #calculate files that are skipped for now to save time\n",
    "    skip_files = [] \n",
    "    filter_list = ['max', '16', '32', '64', 'random', 'test', 'train', 'outcome', 'aggregated', 'los']\n",
    "    for file in all_csv_files:\n",
    "        for filter_val in filter_list:\n",
    "            if filter_val in file.lower():\n",
    "                skip_files.append(file)\n",
    "    file_locations = [file for file in all_csv_files if file not in skip_files] #keep only the csv files that are not to be skipped\n",
    "    \n",
    "    return file_locations\n",
    "\n",
    "def find_hyperparams(param_dir, dataset):\n",
    "    for file in os.listdir(param_dir):\n",
    "        if file.endswith('.txt') and file.startswith(dataset):\n",
    "            with open(param_dir + file, 'r') as file: #get hyperparameters of best model\n",
    "                param_dict = literal_eval(file.read())\n",
    "                file.close()\n",
    "                return param_dict"
   ]
  },
  {
   "cell_type": "code",
   "execution_count": null,
   "id": "87ffda8e-c44f-4827-8a2d-8f28323d23c3",
   "metadata": {
    "tags": []
   },
   "outputs": [],
   "source": [
    "#Function that calculates the performance of each model at the optimal seperating threshold (calculated with AUK)\n",
    "def calc_optimal_scores()\n",
    "    model_names = ['orange', 'di_mauro_cnn', 'galanti_lstm', 'transformer']\n",
    "    model_types = ['cnn', 'cnn' ,'lstm' , 'transformer']\n",
    "    file_locations = find_all_csv_locations_auk()\n",
    "    name_list, type_list, dataset_list, fscore_list, precision_list, recall_list, threshold_list = [], [], [], [], [], [], []\n",
    "\n",
    "    for file_loc in file_locations:\n",
    "        for model_name, model_type in zip(model_names, model_types):\n",
    "            dataset = file_loc.split(\"\\\\\")[-1:][0].split('.')[0] #get filename (without.csv)\n",
    "\n",
    "            #prepare data\n",
    "            x_train, x_val, x_test, y_train, y_val, y_test, binary, X, y, model_type = prepare_dataset_for_model(file_loc, model_type)\n",
    "\n",
    "            #first load the original best model for the perticular dataset\n",
    "            if model_name == 'transformer':\n",
    "                param_dict = find_hyperparams('C:\\\\Users\\\\20190337\\\\Downloads\\Tracebook_v2 (Projectfolder)\\\\model_results\\\\transformer\\\\results\\\\hyperparameters\\\\', dataset)\n",
    "                original_model, x_train, x_test = create_transformer_from_h5(x_train, x_test, y_train, y_test, binary, dataset, param_dict) #rebuild the model using the hyperparameters\n",
    "                original_model.load_weights('C:\\\\Users\\\\20190337\\\\Downloads\\Tracebook_v2 (Projectfolder)\\\\model_results\\\\transformer\\\\models\\\\' + dataset + '_model-weights.h5') #load model weights\n",
    "                y_pred = original_model.predict(x_test)\n",
    "            elif model_name == 'orange': \n",
    "                x_train, x_test = image_encoder_cv(x_train, x_test, y_train, y_test)#encode the training/testing data to pixel values\n",
    "                model_loc = 'C:\\\\Users\\\\20190337\\\\Downloads\\Tracebook_v2 (Projectfolder)\\\\model_results\\\\' + model_name + '\\\\models\\\\' + dataset + '.h5'\n",
    "                original_model = models.load_model(model_loc, custom_objects={'f1': globalvar.f1, 'precision': globalvar.precision, 'recall': globalvar.recall, 'auc': globalvar.auc})\n",
    "                y_pred = original_model.predict(x_test)\n",
    "            else:\n",
    "                model_loc = 'C:\\\\Users\\\\20190337\\\\Downloads\\Tracebook_v2 (Projectfolder)\\\\model_results\\\\' + model_name + '\\\\models\\\\' + dataset + '.h5'\n",
    "                original_model = models.load_model(model_loc, custom_objects={'f1': globalvar.f1, 'precision': globalvar.precision, 'recall': globalvar.recall, 'auc': globalvar.auc})\n",
    "                y_pred = original_model.predict(x_test)\n",
    "\n",
    "            #calculate the kappa, fpr and tpr values\n",
    "            kappa_vals = AUK(y_test, y_pred.flatten()).kappa_curve()\n",
    "            fpr_vals = AUK(y_test, y_pred.flatten()).fpr_curve()\n",
    "            tpr_vals = AUK(y_test, y_pred.flatten()).tpr_curve()\n",
    "\n",
    "            kappa_index = np.argmax(kappa_vals) #get index of highest kappa value\n",
    "            best_fpr = fpr_vals[kappa_index] #calculate fpr at highest kappa value\n",
    "            best_tpr = tpr_vals[kappa_index] #calculate tpr at highest kappa value\n",
    "\n",
    "            best_threshold = best_tpr - best_fpr #determine best threshold according to youden index (tpr - fpr)\n",
    "            y_pred_threshold = np.where(y_pred > best_threshold, 1, 0)[:, 0] #classify predictions according to new best threshold\n",
    "\n",
    "            #change datatype to float as the metrics don't work with ints\n",
    "            y_test = y_test.astype('float64')\n",
    "            y_pred_threshold = y_pred_threshold.astype('float64')\n",
    "\n",
    "            #calculate performance of best seperating threshold according to kappa score\n",
    "            recall = round(globalvar.recall(y_test, y_pred_threshold).numpy(), 4)\n",
    "            precision = round(globalvar.precision(y_test, y_pred_threshold).numpy(), 4)\n",
    "            fscore = round(globalvar.f1(y_test, y_pred_threshold).numpy(), 4)\n",
    "\n",
    "            #append scores to lists\n",
    "            name_list.append(model_name)\n",
    "            type_list.append(model_type)\n",
    "            dataset_list.append(dataset)\n",
    "            fscore_list.append(fscore)\n",
    "            precision_list.append(precision)\n",
    "            recall_list.append(recall)\n",
    "            threshold_list.append(best_threshold)\n",
    "\n",
    "    #create dictionary of score lists\n",
    "    auk_results_dict = {'names': name_list,\n",
    "                'types': type_list,\n",
    "                'datasets': dataset_list,\n",
    "                'fscores': fscore_list,\n",
    "                'precisions': precision_list,\n",
    "                'recalls': recall_list,\n",
    "                'thresholds': threshold_list}\n",
    "\n",
    "    return pd.DataFrame(auk_results_dict)\n"
   ]
  },
  {
   "cell_type": "markdown",
   "id": "8fb5b8fe-be99-492a-883a-99f537cd6d3c",
   "metadata": {},
   "source": [
    "## Calculate the values of a single combination\n",
    "combination is determined through model_name and file_list (encoded file location)"
   ]
  },
  {
   "cell_type": "code",
   "execution_count": 114,
   "id": "6f412456-3f48-4b5a-8827-708dc9f26b52",
   "metadata": {},
   "outputs": [
    {
     "name": "stderr",
     "output_type": "stream",
     "text": [
      "C:\\Users\\20190337\\My Drive\\JADS\\Thesis - New\\Notebooks\\Experiments\\other_lib\\general_functions.py:32: FutureWarning:\n",
      "\n",
      "In a future version of pandas all arguments of DataFrame.drop except for the argument 'labels' will be keyword-only.\n",
      "\n"
     ]
    },
    {
     "name": "stdout",
     "output_type": "stream",
     "text": [
      "scores for:  EventLog_Processed_Paracetamol_8_word2vec_avg_additional  using model:  di_mauro_cnn\n",
      "predictions:  [1 1 1 1 1 1 1 1 1 0 0 1 1 1 1 1 1 1 1 1 1 1 1 1 1 1 1 1 0 0 1 1 1 1 1 1 1\n",
      " 1 1 0 1 1 1 1 1 1 1 1 0 1 0 1 1 1 1 1 1 1 1 1 1 1 1 1 1 1 1 1 1 1 1 1 1 1\n",
      " 1 1 1 0 1 1 1 1 1 1 1 1 1 1 1 1 0 1 1 0 1 1 1 1 1 1 1 1 1 1 1 1 1 0 1 1 1\n",
      " 1 1 1 1 1 1 1 1 1 1 1 1 0 1 1 1 1 1 1 1 1 1 1 1 1 0 1 1 1 1 1 1 1 1 1 1 1\n",
      " 1 0 0 1 1 1 1 1 1 0 1 1 1 0 1 1 1 1 1 1 0 1 1 1 1 1 1 1 1 1 1 0 0 1 1 1 1\n",
      " 0 1 1 1 1 1 1 0 1 1 1 1 1 1 1 1 1 1 1 1 1 1 1 1 1 1 0 1 1 1 1 1 1 1 1 1 1\n",
      " 1 1 1 1 1 1 1 1 1 1 0 1 1 0 1 1 1 1 1 1 0 1 1 1]\n",
      "recall:  0.9857\n",
      "precision:  0.6273\n",
      "fscore:  0.7667\n"
     ]
    }
   ],
   "source": [
    "model_names = ['di_mauro_cnn']\n",
    "model_types = ['cnn']\n",
    "file_list = ['C:\\\\Users\\\\20190337\\\\Downloads\\\\Tracebook_v2 (Projectfolder)\\\\encoded_logs\\\\word2vec\\\\average\\\\8\\\\EventLog_Processed_Paracetamol_8_word2vec_avg_additional.csv']\n",
    "name_list, type_list, dataset_list, fscore_list, precision_list, recall_list, threshold_list = [], [], [], [], [], [], []\n",
    "\n",
    "for file_loc in file_list:\n",
    "    for model_name, model_type in zip(model_names, model_types):\n",
    "        dataset = file_loc.split(\"\\\\\")[-1:][0].split('.')[0] #get filename (without.csv)\n",
    "        #print('now starting: ', dataset, ' with model_name: ', model_name)\n",
    "\n",
    "        #prepare data\n",
    "        x_train, x_val, x_test, y_train, y_val, y_test, binary, X, y, model_type = prepare_dataset_for_model(file_loc, model_type)\n",
    "\n",
    "        #first load the original best model for the perticular dataset\n",
    "        if model_name == 'transformer':\n",
    "            param_dict = find_hyperparams('C:\\\\Users\\\\20190337\\\\Downloads\\Tracebook_v2 (Projectfolder)\\\\model_results\\\\transformer\\\\results\\\\hyperparameters\\\\', dataset)\n",
    "            original_model, x_train, x_test = create_transformer_from_h5(x_train, x_test, y_train, y_test, binary, dataset, param_dict) #rebuild the model using the hyperparameters\n",
    "            original_model.load_weights('C:\\\\Users\\\\20190337\\\\Downloads\\Tracebook_v2 (Projectfolder)\\\\model_results\\\\transformer\\\\models\\\\' + dataset + '_model-weights.h5') #load model weights\n",
    "            y_pred = original_model.predict(x_test)\n",
    "        elif model_name == 'orange': \n",
    "            x_train, x_test = image_encoder_cv(x_train, x_test, y_train, y_test)#encode the training/testing data to pixel values\n",
    "            model_loc = 'C:\\\\Users\\\\20190337\\\\Downloads\\Tracebook_v2 (Projectfolder)\\\\model_results\\\\' + model_name + '\\\\models\\\\' + dataset + '.h5'\n",
    "            original_model = models.load_model(model_loc, custom_objects={'f1': globalvar.f1, 'precision': globalvar.precision, 'recall': globalvar.recall, 'auc': globalvar.auc})\n",
    "            y_pred = original_model.predict(x_test)\n",
    "        else:\n",
    "            model_loc = 'C:\\\\Users\\\\20190337\\\\Downloads\\Tracebook_v2 (Projectfolder)\\\\model_results\\\\' + model_name + '\\\\models\\\\' + dataset + '.h5'\n",
    "            original_model = models.load_model(model_loc, custom_objects={'f1': globalvar.f1, 'precision': globalvar.precision, 'recall': globalvar.recall, 'auc': globalvar.auc})\n",
    "            y_pred = original_model.predict(x_test)\n",
    "\n",
    "        #calculate the kappa, fpr and tpr values\n",
    "        kappa_vals = AUK(y_test, y_pred.flatten()).kappa_curve()\n",
    "        fpr_vals = AUK(y_test, y_pred.flatten()).fpr_curve()\n",
    "        tpr_vals = AUK(y_test, y_pred.flatten()).tpr_curve()\n",
    "\n",
    "        kappa_index = np.argmax(kappa_vals) #get index of highest kappa value\n",
    "        best_fpr = fpr_vals[kappa_index] #calculate fpr at highest kappa value\n",
    "        best_tpr = tpr_vals[kappa_index] #calculate tpr at highest kappa value\n",
    "\n",
    "        best_threshold = best_tpr - best_fpr #determine best threshold according to youden index (tpr - fpr)\n",
    "        y_pred_threshold = np.where(y_pred > best_threshold, 1, 0)[:, 0] #classify predictions according to new best threshold\n",
    "\n",
    "        #change datatype to float as the metrics don't work with ints\n",
    "        y_test = y_test.astype('float64')\n",
    "        y_pred_threshold = y_pred_threshold.astype('float64')\n",
    "\n",
    "        #calculate performance of best seperating threshold according to kappa score\n",
    "        recall = round(globalvar.recall(y_test, y_pred_threshold).numpy(), 4)\n",
    "        precision = round(globalvar.precision(y_test, y_pred_threshold).numpy(), 4)\n",
    "        fscore = round(globalvar.f1(y_test, y_pred_threshold).numpy(), 4)\n",
    "        \n",
    "print('scores for: ', dataset, ' using model: ', model_name)\n",
    "print('predictions: ', np.where(y_pred > best_threshold, 1, 0)[:, 0])\n",
    "print('recall: ', recall)\n",
    "print('precision: ', precision)\n",
    "print('fscore: ', fscore)"
   ]
  },
  {
   "cell_type": "markdown",
   "id": "604ce959-2c33-4262-9d9c-089186fa040f",
   "metadata": {
    "tags": []
   },
   "source": [
    "# Plotting example figure\n",
    "\n",
    "Below, the single example of the kappa curve and AUC curve is plotted which I used as an example  in the thesis"
   ]
  },
  {
   "cell_type": "code",
   "execution_count": 174,
   "id": "04cf58fc-21da-4355-9622-6e3f77eaab98",
   "metadata": {
    "tags": []
   },
   "outputs": [
    {
     "data": {
      "application/vnd.plotly.v1+json": {
       "config": {
        "plotlyServerURL": "https://plot.ly"
       },
       "data": [
        {
         "hovertemplate": "fpr_vals=%{x}<br>kappa_vals=%{y}<extra></extra>",
         "legendgroup": "",
         "line": {
          "color": "#636efa",
          "dash": "solid"
         },
         "marker": {
          "symbol": "circle"
         },
         "mode": "lines",
         "name": "",
         "orientation": "v",
         "showlegend": false,
         "type": "scatter",
         "x": [
          1,
          0.9811320754716981,
          0.9716981132075472,
          0.9622641509433962,
          0.9339622641509434,
          0.9245283018867925,
          0.9056603773584906,
          0.8962264150943395,
          0.8867924528301887,
          0.8773584905660378,
          0.8679245283018868,
          0.8584905660377359,
          0.8490566037735848,
          0.839622641509434,
          0.8301886792452831,
          0.8301886792452831,
          0.820754716981132,
          0.8113207547169812,
          0.8018867924528301,
          0.7924528301886793,
          0.7830188679245282,
          0.7735849056603773,
          0.7735849056603773,
          0.7735849056603773,
          0.7735849056603773,
          0.7735849056603773,
          0.7735849056603773,
          0.7641509433962265,
          0.7547169811320754,
          0.7452830188679246,
          0.7452830188679246,
          0.7358490566037735,
          0.7264150943396226,
          0.7264150943396226,
          0.7264150943396226,
          0.7264150943396226,
          0.7169811320754718,
          0.7169811320754718,
          0.7075471698113207,
          0.6981132075471699,
          0.6886792452830188,
          0.6886792452830188,
          0.6792452830188679,
          0.6698113207547169,
          0.660377358490566,
          0.6509433962264152,
          0.6509433962264152,
          0.6415094339622641,
          0.6320754716981132,
          0.6226415094339622,
          0.6226415094339622,
          0.6226415094339622,
          0.6226415094339622,
          0.6132075471698113,
          0.6037735849056605,
          0.6037735849056605,
          0.5943396226415094,
          0.5943396226415094,
          0.5943396226415094,
          0.5849056603773585,
          0.5754716981132075,
          0.5754716981132075,
          0.5660377358490566,
          0.5566037735849056,
          0.5471698113207547,
          0.5471698113207547,
          0.5471698113207547,
          0.5377358490566038,
          0.5283018867924528,
          0.5283018867924528,
          0.5283018867924528,
          0.5188679245283019,
          0.5094339622641509,
          0.5094339622641509,
          0.5,
          0.49056603773584906,
          0.48113207547169806,
          0.48113207547169806,
          0.4716981132075471,
          0.4716981132075471,
          0.4716981132075471,
          0.46226415094339623,
          0.4528301886792453,
          0.44339622641509435,
          0.43396226415094336,
          0.43396226415094336,
          0.43396226415094336,
          0.4245283018867924,
          0.4245283018867924,
          0.41509433962264153,
          0.4056603773584906,
          0.39622641509433965,
          0.39622641509433965,
          0.39622641509433965,
          0.39622641509433965,
          0.39622641509433965,
          0.38679245283018865,
          0.38679245283018865,
          0.3773584905660377,
          0.3773584905660377,
          0.36792452830188677,
          0.36792452830188677,
          0.3584905660377359,
          0.34905660377358494,
          0.34905660377358494,
          0.33962264150943394,
          0.33962264150943394,
          0.33962264150943394,
          0.33962264150943394,
          0.33962264150943394,
          0.33962264150943394,
          0.330188679245283,
          0.32075471698113206,
          0.3113207547169811,
          0.3113207547169811,
          0.3113207547169811,
          0.3113207547169811,
          0.30188679245283023,
          0.29245283018867924,
          0.2830188679245283,
          0.2830188679245283,
          0.2830188679245283,
          0.2830188679245283,
          0.2830188679245283,
          0.27358490566037735,
          0.27358490566037735,
          0.27358490566037735,
          0.27358490566037735,
          0.2641509433962264,
          0.2641509433962264,
          0.2641509433962264,
          0.2641509433962264,
          0.2641509433962264,
          0.25471698113207547,
          0.25471698113207547,
          0.25471698113207547,
          0.25471698113207547,
          0.25471698113207547,
          0.24528301886792453,
          0.23584905660377356,
          0.22641509433962265,
          0.22641509433962265,
          0.21698113207547168,
          0.20754716981132076,
          0.20754716981132076,
          0.20754716981132076,
          0.20754716981132076,
          0.19811320754716982,
          0.18867924528301885,
          0.17924528301886794,
          0.17924528301886794,
          0.16981132075471697,
          0.16981132075471697,
          0.16981132075471697,
          0.16981132075471697,
          0.16981132075471697,
          0.16981132075471697,
          0.16981132075471697,
          0.16981132075471697,
          0.16981132075471697,
          0.16981132075471697,
          0.16037735849056603,
          0.15094339622641512,
          0.15094339622641512,
          0.15094339622641512,
          0.14150943396226415,
          0.14150943396226415,
          0.14150943396226415,
          0.14150943396226415,
          0.14150943396226415,
          0.14150943396226415,
          0.14150943396226415,
          0.1320754716981132,
          0.1320754716981132,
          0.1320754716981132,
          0.1320754716981132,
          0.1320754716981132,
          0.1320754716981132,
          0.12264150943396226,
          0.12264150943396226,
          0.11320754716981132,
          0.11320754716981132,
          0.11320754716981132,
          0.11320754716981132,
          0.10377358490566038,
          0.09433962264150943,
          0.09433962264150943,
          0.09433962264150943,
          0.0849056603773585,
          0.0849056603773585,
          0.0849056603773585,
          0.0849056603773585,
          0.0849056603773585,
          0.0849056603773585,
          0.0849056603773585,
          0.0849056603773585,
          0.0849056603773585,
          0.07547169811320756,
          0.07547169811320756,
          0.07547169811320756,
          0.07547169811320756,
          0.07547169811320756,
          0.07547169811320756,
          0.07547169811320756,
          0.07547169811320756,
          0.07547169811320756,
          0.07547169811320756,
          0.0660377358490566,
          0.05660377358490566,
          0.05660377358490566,
          0.05660377358490566,
          0.05660377358490566,
          0.05660377358490566,
          0.05660377358490566,
          0.04716981132075471,
          0.04716981132075471,
          0.04716981132075471,
          0.03773584905660378,
          0.03773584905660378,
          0.03773584905660378,
          0.03773584905660378,
          0.03773584905660378,
          0.03773584905660378,
          0.03773584905660378,
          0.03773584905660378,
          0.02830188679245283,
          0.02830188679245283,
          0.02830188679245283,
          0.01886792452830189,
          0.01886792452830189,
          0.01886792452830189,
          0.01886792452830189,
          0.01886792452830189,
          0.01886792452830189,
          0.009433962264150945,
          0.009433962264150945,
          0.009433962264150945,
          0.009433962264150945,
          0.009433962264150945,
          0.009433962264150945,
          0.009433962264150945,
          0.009433962264150945,
          0
         ],
         "xaxis": "x",
         "y": [
          0,
          0.021419828641370844,
          0.03208801283520522,
          0.042728521287959904,
          0.07448506498441897,
          0.08501594048884155,
          0.10599636583888562,
          0.11644612476370507,
          0.12686905301314033,
          0.13726525378987875,
          0.14763482976800246,
          0.15797788309636668,
          0.16829451540195367,
          0.1785848277932019,
          0.18884892086330934,
          0.18067509916922386,
          0.19091044999252538,
          0.20111982082866742,
          0.21130331046823728,
          0.22146101720157868,
          0.23159303882195456,
          0.241699472628686,
          0.23353115727002946,
          0.22538341853745272,
          0.21725617877756379,
          0.20914936072721899,
          0.2010628875110717,
          0.21113158864725382,
          0.22117508467088792,
          0.23119347010809604,
          0.22311985898942427,
          0.23311083400572136,
          0.24307692307692313,
          0.2350186580815103,
          0.22698041508330905,
          0.21896211955331737,
          0.22889634057442773,
          0.2208955223880597,
          0.2308027923211168,
          0.2406855980826496,
          0.25054403017554044,
          0.24255596609432722,
          0.2523878437047757,
          0.2621955626219553,
          0.2719792117799913,
          0.2817388796770239,
          0.2737615207373272,
          0.28349514563106787,
          0.2932049992817124,
          0.3028911686634621,
          0.2949269131556321,
          0.28698203678522877,
          0.2790564689063616,
          0.2887127864639107,
          0.29834569309754716,
          0.29043515419129706,
          0.3000426803243705,
          0.2921492007104794,
          0.2842747658245814,
          0.29385498617903477,
          0.3034121478125443,
          0.2955525701760586,
          0.30508474576271194,
          0.3145940608027086,
          0.324080597435536,
          0.3162339033143341,
          0.3084059600787181,
          0.31786591786591784,
          0.3273033235170381,
          0.3194901603753763,
          0.31169557918298835,
          0.321106686229302,
          0.3304954640614097,
          0.32271555028925897,
          0.3320802005012531,
          0.3414227105208261,
          0.35074315877205164,
          0.34297606659729446,
          0.3522727272727271,
          0.34452211225690366,
          0.3367897138116964,
          0.3460608989850169,
          0.3553103448275862,
          0.3645381277123372,
          0.37374432365487825,
          0.36602295374888305,
          0.3583196046128501,
          0.3675008570449091,
          0.359813724147377,
          0.3689718859019083,
          0.37810877288876754,
          0.38722445915512194,
          0.37955010224948876,
          0.37189351126846854,
          0.36425462459194785,
          0.35663338088445085,
          0.36572126475776895,
          0.358115892917655,
          0.36718115353371267,
          0.3595915883426872,
          0.36863433743077123,
          0.36106051406597867,
          0.3700808625336927,
          0.3790805680823853,
          0.3715207745058493,
          0.380498287556242,
          0.3729541185940435,
          0.365427135678392,
          0.35791728014991286,
          0.3504244936158833,
          0.342948717948718,
          0.35189755219102264,
          0.360826115922718,
          0.3697344779397085,
          0.3622706726934325,
          0.354823716884669,
          0.3473935535216872,
          0.35627691288506136,
          0.36514028586553726,
          0.3739837398373984,
          0.366565429816453,
          0.3591637538745632,
          0.35177865612648224,
          0.34441008093702713,
          0.35322729065334557,
          0.3458735473704943,
          0.33853620146904506,
          0.33121519816573863,
          0.34000785237534364,
          0.3327014837571084,
          0.32541133455210247,
          0.3181373508119743,
          0.3108794788273615,
          0.3196459946638903,
          0.312402496099844,
          0.3051749886371015,
          0.29796341937994564,
          0.2907677356656947,
          0.29950815428423516,
          0.3082293619497059,
          0.31693142192948465,
          0.30974650067728815,
          0.31842783505154637,
          0.32709017184784717,
          0.31991770605631986,
          0.312760901676193,
          0.30561970746728256,
          0.31425825056071777,
          0.3228779925745742,
          0.33147899482064086,
          0.32434849259070003,
          0.3329292413705099,
          0.325812619502868,
          0.31871140255936853,
          0.3116255405749174,
          0.30455498380026674,
          0.2974996827008503,
          0.29045958795562604,
          0.28343465045592703,
          0.2764248213043203,
          0.2694300518134715,
          0.2779776557470178,
          0.2865069356872635,
          0.2795238395162814,
          0.27255568138920355,
          0.2810634152473132,
          0.274108488196886,
          0.26716839134524917,
          0.26024307730860785,
          0.2533324989048127,
          0.24643660915228818,
          0.2395553612689689,
          0.24803493449781658,
          0.2411665731912507,
          0.2343127490039841,
          0.22747341583234873,
          0.22064852776742455,
          0.21383803909401178,
          0.22229109843788739,
          0.2154932193943897,
          0.22392675986638633,
          0.21714144472594693,
          0.21037037037037043,
          0.20361349201455262,
          0.21202414685228538,
          0.22041720509507112,
          0.21367101057290383,
          0.2069389008289838,
          0.21531100478468887,
          0.20859121269685638,
          0.20188540646425077,
          0.1951935424692717,
          0.18851557727550394,
          0.18185146762677734,
          0.17520117044623265,
          0.1685646428353939,
          0.16194184207324494,
          0.17028258887876027,
          0.16367168528411843,
          0.15707441324519372,
          0.15049073064340243,
          0.14392059553349873,
          0.13736396614268437,
          0.13082080086972278,
          0.12429105828405929,
          0.11777469712494726,
          0.11127167630057805,
          0.11957894736842106,
          0.1278692464847973,
          0.12137583288312624,
          0.1148956584312785,
          0.10842868268136327,
          0.10197486535008961,
          0.09553416631792913,
          0.10379837553750591,
          0.09736889207087877,
          0.09095243771605678,
          0.09919618934206613,
          0.09279086366880812,
          0.08639847881632891,
          0.08001899560726589,
          0.0736523750222381,
          0.0672985781990522,
          0.060957566431910894,
          0.054629301170627885,
          0.06284330517984761,
          0.05652584375737551,
          0.050221043324491524,
          0.05841479213284655,
          0.05212071298311667,
          0.04583921015514812,
          0.03957024599307221,
          0.033313782991202294,
          0.02706978379328534,
          0.03523764926246775,
          0.029004151803988118,
          0.0227830354013319,
          0.01657426320396836,
          0.010377798507462765,
          0.004193604752751948,
          -0.001978354474572325,
          -0.008138115444980516,
          0
         ],
         "yaxis": "y"
        }
       ],
       "layout": {
        "height": 400,
        "legend": {
         "tracegroupgap": 0
        },
        "margin": {
         "t": 60
        },
        "shapes": [
         {
          "editable": true,
          "line": {
           "color": "red"
          },
          "x0": 0.3772244591551219,
          "x1": 0.41722445915512196,
          "xref": "x",
          "y0": 0.3722244591551219,
          "y1": 0.39722445915512195,
          "yref": "y"
         }
        ],
        "template": {
         "data": {
          "bar": [
           {
            "error_x": {
             "color": "#2a3f5f"
            },
            "error_y": {
             "color": "#2a3f5f"
            },
            "marker": {
             "line": {
              "color": "#E5ECF6",
              "width": 0.5
             },
             "pattern": {
              "fillmode": "overlay",
              "size": 10,
              "solidity": 0.2
             }
            },
            "type": "bar"
           }
          ],
          "barpolar": [
           {
            "marker": {
             "line": {
              "color": "#E5ECF6",
              "width": 0.5
             },
             "pattern": {
              "fillmode": "overlay",
              "size": 10,
              "solidity": 0.2
             }
            },
            "type": "barpolar"
           }
          ],
          "carpet": [
           {
            "aaxis": {
             "endlinecolor": "#2a3f5f",
             "gridcolor": "white",
             "linecolor": "white",
             "minorgridcolor": "white",
             "startlinecolor": "#2a3f5f"
            },
            "baxis": {
             "endlinecolor": "#2a3f5f",
             "gridcolor": "white",
             "linecolor": "white",
             "minorgridcolor": "white",
             "startlinecolor": "#2a3f5f"
            },
            "type": "carpet"
           }
          ],
          "choropleth": [
           {
            "colorbar": {
             "outlinewidth": 0,
             "ticks": ""
            },
            "type": "choropleth"
           }
          ],
          "contour": [
           {
            "colorbar": {
             "outlinewidth": 0,
             "ticks": ""
            },
            "colorscale": [
             [
              0,
              "#0d0887"
             ],
             [
              0.1111111111111111,
              "#46039f"
             ],
             [
              0.2222222222222222,
              "#7201a8"
             ],
             [
              0.3333333333333333,
              "#9c179e"
             ],
             [
              0.4444444444444444,
              "#bd3786"
             ],
             [
              0.5555555555555556,
              "#d8576b"
             ],
             [
              0.6666666666666666,
              "#ed7953"
             ],
             [
              0.7777777777777778,
              "#fb9f3a"
             ],
             [
              0.8888888888888888,
              "#fdca26"
             ],
             [
              1,
              "#f0f921"
             ]
            ],
            "type": "contour"
           }
          ],
          "contourcarpet": [
           {
            "colorbar": {
             "outlinewidth": 0,
             "ticks": ""
            },
            "type": "contourcarpet"
           }
          ],
          "heatmap": [
           {
            "colorbar": {
             "outlinewidth": 0,
             "ticks": ""
            },
            "colorscale": [
             [
              0,
              "#0d0887"
             ],
             [
              0.1111111111111111,
              "#46039f"
             ],
             [
              0.2222222222222222,
              "#7201a8"
             ],
             [
              0.3333333333333333,
              "#9c179e"
             ],
             [
              0.4444444444444444,
              "#bd3786"
             ],
             [
              0.5555555555555556,
              "#d8576b"
             ],
             [
              0.6666666666666666,
              "#ed7953"
             ],
             [
              0.7777777777777778,
              "#fb9f3a"
             ],
             [
              0.8888888888888888,
              "#fdca26"
             ],
             [
              1,
              "#f0f921"
             ]
            ],
            "type": "heatmap"
           }
          ],
          "heatmapgl": [
           {
            "colorbar": {
             "outlinewidth": 0,
             "ticks": ""
            },
            "colorscale": [
             [
              0,
              "#0d0887"
             ],
             [
              0.1111111111111111,
              "#46039f"
             ],
             [
              0.2222222222222222,
              "#7201a8"
             ],
             [
              0.3333333333333333,
              "#9c179e"
             ],
             [
              0.4444444444444444,
              "#bd3786"
             ],
             [
              0.5555555555555556,
              "#d8576b"
             ],
             [
              0.6666666666666666,
              "#ed7953"
             ],
             [
              0.7777777777777778,
              "#fb9f3a"
             ],
             [
              0.8888888888888888,
              "#fdca26"
             ],
             [
              1,
              "#f0f921"
             ]
            ],
            "type": "heatmapgl"
           }
          ],
          "histogram": [
           {
            "marker": {
             "pattern": {
              "fillmode": "overlay",
              "size": 10,
              "solidity": 0.2
             }
            },
            "type": "histogram"
           }
          ],
          "histogram2d": [
           {
            "colorbar": {
             "outlinewidth": 0,
             "ticks": ""
            },
            "colorscale": [
             [
              0,
              "#0d0887"
             ],
             [
              0.1111111111111111,
              "#46039f"
             ],
             [
              0.2222222222222222,
              "#7201a8"
             ],
             [
              0.3333333333333333,
              "#9c179e"
             ],
             [
              0.4444444444444444,
              "#bd3786"
             ],
             [
              0.5555555555555556,
              "#d8576b"
             ],
             [
              0.6666666666666666,
              "#ed7953"
             ],
             [
              0.7777777777777778,
              "#fb9f3a"
             ],
             [
              0.8888888888888888,
              "#fdca26"
             ],
             [
              1,
              "#f0f921"
             ]
            ],
            "type": "histogram2d"
           }
          ],
          "histogram2dcontour": [
           {
            "colorbar": {
             "outlinewidth": 0,
             "ticks": ""
            },
            "colorscale": [
             [
              0,
              "#0d0887"
             ],
             [
              0.1111111111111111,
              "#46039f"
             ],
             [
              0.2222222222222222,
              "#7201a8"
             ],
             [
              0.3333333333333333,
              "#9c179e"
             ],
             [
              0.4444444444444444,
              "#bd3786"
             ],
             [
              0.5555555555555556,
              "#d8576b"
             ],
             [
              0.6666666666666666,
              "#ed7953"
             ],
             [
              0.7777777777777778,
              "#fb9f3a"
             ],
             [
              0.8888888888888888,
              "#fdca26"
             ],
             [
              1,
              "#f0f921"
             ]
            ],
            "type": "histogram2dcontour"
           }
          ],
          "mesh3d": [
           {
            "colorbar": {
             "outlinewidth": 0,
             "ticks": ""
            },
            "type": "mesh3d"
           }
          ],
          "parcoords": [
           {
            "line": {
             "colorbar": {
              "outlinewidth": 0,
              "ticks": ""
             }
            },
            "type": "parcoords"
           }
          ],
          "pie": [
           {
            "automargin": true,
            "type": "pie"
           }
          ],
          "scatter": [
           {
            "marker": {
             "colorbar": {
              "outlinewidth": 0,
              "ticks": ""
             }
            },
            "type": "scatter"
           }
          ],
          "scatter3d": [
           {
            "line": {
             "colorbar": {
              "outlinewidth": 0,
              "ticks": ""
             }
            },
            "marker": {
             "colorbar": {
              "outlinewidth": 0,
              "ticks": ""
             }
            },
            "type": "scatter3d"
           }
          ],
          "scattercarpet": [
           {
            "marker": {
             "colorbar": {
              "outlinewidth": 0,
              "ticks": ""
             }
            },
            "type": "scattercarpet"
           }
          ],
          "scattergeo": [
           {
            "marker": {
             "colorbar": {
              "outlinewidth": 0,
              "ticks": ""
             }
            },
            "type": "scattergeo"
           }
          ],
          "scattergl": [
           {
            "marker": {
             "colorbar": {
              "outlinewidth": 0,
              "ticks": ""
             }
            },
            "type": "scattergl"
           }
          ],
          "scattermapbox": [
           {
            "marker": {
             "colorbar": {
              "outlinewidth": 0,
              "ticks": ""
             }
            },
            "type": "scattermapbox"
           }
          ],
          "scatterpolar": [
           {
            "marker": {
             "colorbar": {
              "outlinewidth": 0,
              "ticks": ""
             }
            },
            "type": "scatterpolar"
           }
          ],
          "scatterpolargl": [
           {
            "marker": {
             "colorbar": {
              "outlinewidth": 0,
              "ticks": ""
             }
            },
            "type": "scatterpolargl"
           }
          ],
          "scatterternary": [
           {
            "marker": {
             "colorbar": {
              "outlinewidth": 0,
              "ticks": ""
             }
            },
            "type": "scatterternary"
           }
          ],
          "surface": [
           {
            "colorbar": {
             "outlinewidth": 0,
             "ticks": ""
            },
            "colorscale": [
             [
              0,
              "#0d0887"
             ],
             [
              0.1111111111111111,
              "#46039f"
             ],
             [
              0.2222222222222222,
              "#7201a8"
             ],
             [
              0.3333333333333333,
              "#9c179e"
             ],
             [
              0.4444444444444444,
              "#bd3786"
             ],
             [
              0.5555555555555556,
              "#d8576b"
             ],
             [
              0.6666666666666666,
              "#ed7953"
             ],
             [
              0.7777777777777778,
              "#fb9f3a"
             ],
             [
              0.8888888888888888,
              "#fdca26"
             ],
             [
              1,
              "#f0f921"
             ]
            ],
            "type": "surface"
           }
          ],
          "table": [
           {
            "cells": {
             "fill": {
              "color": "#EBF0F8"
             },
             "line": {
              "color": "white"
             }
            },
            "header": {
             "fill": {
              "color": "#C8D4E3"
             },
             "line": {
              "color": "white"
             }
            },
            "type": "table"
           }
          ]
         },
         "layout": {
          "annotationdefaults": {
           "arrowcolor": "#2a3f5f",
           "arrowhead": 0,
           "arrowwidth": 1
          },
          "autotypenumbers": "strict",
          "coloraxis": {
           "colorbar": {
            "outlinewidth": 0,
            "ticks": ""
           }
          },
          "colorscale": {
           "diverging": [
            [
             0,
             "#8e0152"
            ],
            [
             0.1,
             "#c51b7d"
            ],
            [
             0.2,
             "#de77ae"
            ],
            [
             0.3,
             "#f1b6da"
            ],
            [
             0.4,
             "#fde0ef"
            ],
            [
             0.5,
             "#f7f7f7"
            ],
            [
             0.6,
             "#e6f5d0"
            ],
            [
             0.7,
             "#b8e186"
            ],
            [
             0.8,
             "#7fbc41"
            ],
            [
             0.9,
             "#4d9221"
            ],
            [
             1,
             "#276419"
            ]
           ],
           "sequential": [
            [
             0,
             "#0d0887"
            ],
            [
             0.1111111111111111,
             "#46039f"
            ],
            [
             0.2222222222222222,
             "#7201a8"
            ],
            [
             0.3333333333333333,
             "#9c179e"
            ],
            [
             0.4444444444444444,
             "#bd3786"
            ],
            [
             0.5555555555555556,
             "#d8576b"
            ],
            [
             0.6666666666666666,
             "#ed7953"
            ],
            [
             0.7777777777777778,
             "#fb9f3a"
            ],
            [
             0.8888888888888888,
             "#fdca26"
            ],
            [
             1,
             "#f0f921"
            ]
           ],
           "sequentialminus": [
            [
             0,
             "#0d0887"
            ],
            [
             0.1111111111111111,
             "#46039f"
            ],
            [
             0.2222222222222222,
             "#7201a8"
            ],
            [
             0.3333333333333333,
             "#9c179e"
            ],
            [
             0.4444444444444444,
             "#bd3786"
            ],
            [
             0.5555555555555556,
             "#d8576b"
            ],
            [
             0.6666666666666666,
             "#ed7953"
            ],
            [
             0.7777777777777778,
             "#fb9f3a"
            ],
            [
             0.8888888888888888,
             "#fdca26"
            ],
            [
             1,
             "#f0f921"
            ]
           ]
          },
          "colorway": [
           "#636efa",
           "#EF553B",
           "#00cc96",
           "#ab63fa",
           "#FFA15A",
           "#19d3f3",
           "#FF6692",
           "#B6E880",
           "#FF97FF",
           "#FECB52"
          ],
          "font": {
           "color": "#2a3f5f"
          },
          "geo": {
           "bgcolor": "white",
           "lakecolor": "white",
           "landcolor": "#E5ECF6",
           "showlakes": true,
           "showland": true,
           "subunitcolor": "white"
          },
          "hoverlabel": {
           "align": "left"
          },
          "hovermode": "closest",
          "mapbox": {
           "style": "light"
          },
          "paper_bgcolor": "white",
          "plot_bgcolor": "#E5ECF6",
          "polar": {
           "angularaxis": {
            "gridcolor": "white",
            "linecolor": "white",
            "ticks": ""
           },
           "bgcolor": "#E5ECF6",
           "radialaxis": {
            "gridcolor": "white",
            "linecolor": "white",
            "ticks": ""
           }
          },
          "scene": {
           "xaxis": {
            "backgroundcolor": "#E5ECF6",
            "gridcolor": "white",
            "gridwidth": 2,
            "linecolor": "white",
            "showbackground": true,
            "ticks": "",
            "zerolinecolor": "white"
           },
           "yaxis": {
            "backgroundcolor": "#E5ECF6",
            "gridcolor": "white",
            "gridwidth": 2,
            "linecolor": "white",
            "showbackground": true,
            "ticks": "",
            "zerolinecolor": "white"
           },
           "zaxis": {
            "backgroundcolor": "#E5ECF6",
            "gridcolor": "white",
            "gridwidth": 2,
            "linecolor": "white",
            "showbackground": true,
            "ticks": "",
            "zerolinecolor": "white"
           }
          },
          "shapedefaults": {
           "line": {
            "color": "#2a3f5f"
           }
          },
          "ternary": {
           "aaxis": {
            "gridcolor": "white",
            "linecolor": "white",
            "ticks": ""
           },
           "baxis": {
            "gridcolor": "white",
            "linecolor": "white",
            "ticks": ""
           },
           "bgcolor": "#E5ECF6",
           "caxis": {
            "gridcolor": "white",
            "linecolor": "white",
            "ticks": ""
           }
          },
          "title": {
           "x": 0.05
          },
          "xaxis": {
           "automargin": true,
           "gridcolor": "white",
           "linecolor": "white",
           "ticks": "",
           "title": {
            "standoff": 15
           },
           "zerolinecolor": "white",
           "zerolinewidth": 2
          },
          "yaxis": {
           "automargin": true,
           "gridcolor": "white",
           "linecolor": "white",
           "ticks": "",
           "title": {
            "standoff": 15
           },
           "zerolinecolor": "white",
           "zerolinewidth": 2
          }
         }
        },
        "width": 500,
        "xaxis": {
         "anchor": "y",
         "domain": [
          0,
          1
         ],
         "range": [
          0,
          1
         ],
         "title": {
          "text": "False Positive Ratio (FPR)"
         },
         "type": "linear"
        },
        "yaxis": {
         "anchor": "x",
         "domain": [
          0,
          1
         ],
         "range": [
          0,
          0.42
         ],
         "title": {
          "text": "Cohen's Kappa"
         },
         "type": "linear"
        }
       }
      },
      "image/png": "[encoded data removed]",
      "text/html": [
       "<div>                            <div id=\"487366ba-454d-4d07-aa28-f011ded6963f\" class=\"plotly-graph-div\" style=\"height:400px; width:500px;\"></div>            <script type=\"text/javascript\">                require([\"plotly\"], function(Plotly) {                    window.PLOTLYENV=window.PLOTLYENV || {};                                    if (document.getElementById(\"487366ba-454d-4d07-aa28-f011ded6963f\")) {                    Plotly.newPlot(                        \"487366ba-454d-4d07-aa28-f011ded6963f\",                        [{\"hovertemplate\":\"fpr_vals=%{x}<br>kappa_vals=%{y}<extra></extra>\",\"legendgroup\":\"\",\"line\":{\"color\":\"#636efa\",\"dash\":\"solid\"},\"marker\":{\"symbol\":\"circle\"},\"mode\":\"lines\",\"name\":\"\",\"orientation\":\"v\",\"showlegend\":false,\"x\":[1.0,0.9811320754716981,0.9716981132075472,0.9622641509433962,0.9339622641509434,0.9245283018867925,0.9056603773584906,0.8962264150943395,0.8867924528301887,0.8773584905660378,0.8679245283018868,0.8584905660377359,0.8490566037735848,0.839622641509434,0.8301886792452831,0.8301886792452831,0.820754716981132,0.8113207547169812,0.8018867924528301,0.7924528301886793,0.7830188679245282,0.7735849056603773,0.7735849056603773,0.7735849056603773,0.7735849056603773,0.7735849056603773,0.7735849056603773,0.7641509433962265,0.7547169811320754,0.7452830188679246,0.7452830188679246,0.7358490566037735,0.7264150943396226,0.7264150943396226,0.7264150943396226,0.7264150943396226,0.7169811320754718,0.7169811320754718,0.7075471698113207,0.6981132075471699,0.6886792452830188,0.6886792452830188,0.6792452830188679,0.6698113207547169,0.660377358490566,0.6509433962264152,0.6509433962264152,0.6415094339622641,0.6320754716981132,0.6226415094339622,0.6226415094339622,0.6226415094339622,0.6226415094339622,0.6132075471698113,0.6037735849056605,0.6037735849056605,0.5943396226415094,0.5943396226415094,0.5943396226415094,0.5849056603773585,0.5754716981132075,0.5754716981132075,0.5660377358490566,0.5566037735849056,0.5471698113207547,0.5471698113207547,0.5471698113207547,0.5377358490566038,0.5283018867924528,0.5283018867924528,0.5283018867924528,0.5188679245283019,0.5094339622641509,0.5094339622641509,0.5,0.49056603773584906,0.48113207547169806,0.48113207547169806,0.4716981132075471,0.4716981132075471,0.4716981132075471,0.46226415094339623,0.4528301886792453,0.44339622641509435,0.43396226415094336,0.43396226415094336,0.43396226415094336,0.4245283018867924,0.4245283018867924,0.41509433962264153,0.4056603773584906,0.39622641509433965,0.39622641509433965,0.39622641509433965,0.39622641509433965,0.39622641509433965,0.38679245283018865,0.38679245283018865,0.3773584905660377,0.3773584905660377,0.36792452830188677,0.36792452830188677,0.3584905660377359,0.34905660377358494,0.34905660377358494,0.33962264150943394,0.33962264150943394,0.33962264150943394,0.33962264150943394,0.33962264150943394,0.33962264150943394,0.330188679245283,0.32075471698113206,0.3113207547169811,0.3113207547169811,0.3113207547169811,0.3113207547169811,0.30188679245283023,0.29245283018867924,0.2830188679245283,0.2830188679245283,0.2830188679245283,0.2830188679245283,0.2830188679245283,0.27358490566037735,0.27358490566037735,0.27358490566037735,0.27358490566037735,0.2641509433962264,0.2641509433962264,0.2641509433962264,0.2641509433962264,0.2641509433962264,0.25471698113207547,0.25471698113207547,0.25471698113207547,0.25471698113207547,0.25471698113207547,0.24528301886792453,0.23584905660377356,0.22641509433962265,0.22641509433962265,0.21698113207547168,0.20754716981132076,0.20754716981132076,0.20754716981132076,0.20754716981132076,0.19811320754716982,0.18867924528301885,0.17924528301886794,0.17924528301886794,0.16981132075471697,0.16981132075471697,0.16981132075471697,0.16981132075471697,0.16981132075471697,0.16981132075471697,0.16981132075471697,0.16981132075471697,0.16981132075471697,0.16981132075471697,0.16037735849056603,0.15094339622641512,0.15094339622641512,0.15094339622641512,0.14150943396226415,0.14150943396226415,0.14150943396226415,0.14150943396226415,0.14150943396226415,0.14150943396226415,0.14150943396226415,0.1320754716981132,0.1320754716981132,0.1320754716981132,0.1320754716981132,0.1320754716981132,0.1320754716981132,0.12264150943396226,0.12264150943396226,0.11320754716981132,0.11320754716981132,0.11320754716981132,0.11320754716981132,0.10377358490566038,0.09433962264150943,0.09433962264150943,0.09433962264150943,0.0849056603773585,0.0849056603773585,0.0849056603773585,0.0849056603773585,0.0849056603773585,0.0849056603773585,0.0849056603773585,0.0849056603773585,0.0849056603773585,0.07547169811320756,0.07547169811320756,0.07547169811320756,0.07547169811320756,0.07547169811320756,0.07547169811320756,0.07547169811320756,0.07547169811320756,0.07547169811320756,0.07547169811320756,0.0660377358490566,0.05660377358490566,0.05660377358490566,0.05660377358490566,0.05660377358490566,0.05660377358490566,0.05660377358490566,0.04716981132075471,0.04716981132075471,0.04716981132075471,0.03773584905660378,0.03773584905660378,0.03773584905660378,0.03773584905660378,0.03773584905660378,0.03773584905660378,0.03773584905660378,0.03773584905660378,0.02830188679245283,0.02830188679245283,0.02830188679245283,0.01886792452830189,0.01886792452830189,0.01886792452830189,0.01886792452830189,0.01886792452830189,0.01886792452830189,0.009433962264150945,0.009433962264150945,0.009433962264150945,0.009433962264150945,0.009433962264150945,0.009433962264150945,0.009433962264150945,0.009433962264150945,0.0],\"xaxis\":\"x\",\"y\":[0.0,0.021419828641370844,0.03208801283520522,0.042728521287959904,0.07448506498441897,0.08501594048884155,0.10599636583888562,0.11644612476370507,0.12686905301314033,0.13726525378987875,0.14763482976800246,0.15797788309636668,0.16829451540195367,0.1785848277932019,0.18884892086330934,0.18067509916922386,0.19091044999252538,0.20111982082866742,0.21130331046823728,0.22146101720157868,0.23159303882195456,0.241699472628686,0.23353115727002946,0.22538341853745272,0.21725617877756379,0.20914936072721899,0.2010628875110717,0.21113158864725382,0.22117508467088792,0.23119347010809604,0.22311985898942427,0.23311083400572136,0.24307692307692313,0.2350186580815103,0.22698041508330905,0.21896211955331737,0.22889634057442773,0.2208955223880597,0.2308027923211168,0.2406855980826496,0.25054403017554044,0.24255596609432722,0.2523878437047757,0.2621955626219553,0.2719792117799913,0.2817388796770239,0.2737615207373272,0.28349514563106787,0.2932049992817124,0.3028911686634621,0.2949269131556321,0.28698203678522877,0.2790564689063616,0.2887127864639107,0.29834569309754716,0.29043515419129706,0.3000426803243705,0.2921492007104794,0.2842747658245814,0.29385498617903477,0.3034121478125443,0.2955525701760586,0.30508474576271194,0.3145940608027086,0.324080597435536,0.3162339033143341,0.3084059600787181,0.31786591786591784,0.3273033235170381,0.3194901603753763,0.31169557918298835,0.321106686229302,0.3304954640614097,0.32271555028925897,0.3320802005012531,0.3414227105208261,0.35074315877205164,0.34297606659729446,0.3522727272727271,0.34452211225690366,0.3367897138116964,0.3460608989850169,0.3553103448275862,0.3645381277123372,0.37374432365487825,0.36602295374888305,0.3583196046128501,0.3675008570449091,0.359813724147377,0.3689718859019083,0.37810877288876754,0.38722445915512194,0.37955010224948876,0.37189351126846854,0.36425462459194785,0.35663338088445085,0.36572126475776895,0.358115892917655,0.36718115353371267,0.3595915883426872,0.36863433743077123,0.36106051406597867,0.3700808625336927,0.3790805680823853,0.3715207745058493,0.380498287556242,0.3729541185940435,0.365427135678392,0.35791728014991286,0.3504244936158833,0.342948717948718,0.35189755219102264,0.360826115922718,0.3697344779397085,0.3622706726934325,0.354823716884669,0.3473935535216872,0.35627691288506136,0.36514028586553726,0.3739837398373984,0.366565429816453,0.3591637538745632,0.35177865612648224,0.34441008093702713,0.35322729065334557,0.3458735473704943,0.33853620146904506,0.33121519816573863,0.34000785237534364,0.3327014837571084,0.32541133455210247,0.3181373508119743,0.3108794788273615,0.3196459946638903,0.312402496099844,0.3051749886371015,0.29796341937994564,0.2907677356656947,0.29950815428423516,0.3082293619497059,0.31693142192948465,0.30974650067728815,0.31842783505154637,0.32709017184784717,0.31991770605631986,0.312760901676193,0.30561970746728256,0.31425825056071777,0.3228779925745742,0.33147899482064086,0.32434849259070003,0.3329292413705099,0.325812619502868,0.31871140255936853,0.3116255405749174,0.30455498380026674,0.2974996827008503,0.29045958795562604,0.28343465045592703,0.2764248213043203,0.2694300518134715,0.2779776557470178,0.2865069356872635,0.2795238395162814,0.27255568138920355,0.2810634152473132,0.274108488196886,0.26716839134524917,0.26024307730860785,0.2533324989048127,0.24643660915228818,0.2395553612689689,0.24803493449781658,0.2411665731912507,0.2343127490039841,0.22747341583234873,0.22064852776742455,0.21383803909401178,0.22229109843788739,0.2154932193943897,0.22392675986638633,0.21714144472594693,0.21037037037037043,0.20361349201455262,0.21202414685228538,0.22041720509507112,0.21367101057290383,0.2069389008289838,0.21531100478468887,0.20859121269685638,0.20188540646425077,0.1951935424692717,0.18851557727550394,0.18185146762677734,0.17520117044623265,0.1685646428353939,0.16194184207324494,0.17028258887876027,0.16367168528411843,0.15707441324519372,0.15049073064340243,0.14392059553349873,0.13736396614268437,0.13082080086972278,0.12429105828405929,0.11777469712494726,0.11127167630057805,0.11957894736842106,0.1278692464847973,0.12137583288312624,0.1148956584312785,0.10842868268136327,0.10197486535008961,0.09553416631792913,0.10379837553750591,0.09736889207087877,0.09095243771605678,0.09919618934206613,0.09279086366880812,0.08639847881632891,0.08001899560726589,0.0736523750222381,0.0672985781990522,0.060957566431910894,0.054629301170627885,0.06284330517984761,0.05652584375737551,0.050221043324491524,0.05841479213284655,0.05212071298311667,0.04583921015514812,0.03957024599307221,0.033313782991202294,0.02706978379328534,0.03523764926246775,0.029004151803988118,0.0227830354013319,0.01657426320396836,0.010377798507462765,0.004193604752751948,-0.001978354474572325,-0.008138115444980516,0.0],\"yaxis\":\"y\",\"type\":\"scatter\"}],                        {\"template\":{\"data\":{\"bar\":[{\"error_x\":{\"color\":\"#2a3f5f\"},\"error_y\":{\"color\":\"#2a3f5f\"},\"marker\":{\"line\":{\"color\":\"#E5ECF6\",\"width\":0.5},\"pattern\":{\"fillmode\":\"overlay\",\"size\":10,\"solidity\":0.2}},\"type\":\"bar\"}],\"barpolar\":[{\"marker\":{\"line\":{\"color\":\"#E5ECF6\",\"width\":0.5},\"pattern\":{\"fillmode\":\"overlay\",\"size\":10,\"solidity\":0.2}},\"type\":\"barpolar\"}],\"carpet\":[{\"aaxis\":{\"endlinecolor\":\"#2a3f5f\",\"gridcolor\":\"white\",\"linecolor\":\"white\",\"minorgridcolor\":\"white\",\"startlinecolor\":\"#2a3f5f\"},\"baxis\":{\"endlinecolor\":\"#2a3f5f\",\"gridcolor\":\"white\",\"linecolor\":\"white\",\"minorgridcolor\":\"white\",\"startlinecolor\":\"#2a3f5f\"},\"type\":\"carpet\"}],\"choropleth\":[{\"colorbar\":{\"outlinewidth\":0,\"ticks\":\"\"},\"type\":\"choropleth\"}],\"contour\":[{\"colorbar\":{\"outlinewidth\":0,\"ticks\":\"\"},\"colorscale\":[[0.0,\"#0d0887\"],[0.1111111111111111,\"#46039f\"],[0.2222222222222222,\"#7201a8\"],[0.3333333333333333,\"#9c179e\"],[0.4444444444444444,\"#bd3786\"],[0.5555555555555556,\"#d8576b\"],[0.6666666666666666,\"#ed7953\"],[0.7777777777777778,\"#fb9f3a\"],[0.8888888888888888,\"#fdca26\"],[1.0,\"#f0f921\"]],\"type\":\"contour\"}],\"contourcarpet\":[{\"colorbar\":{\"outlinewidth\":0,\"ticks\":\"\"},\"type\":\"contourcarpet\"}],\"heatmap\":[{\"colorbar\":{\"outlinewidth\":0,\"ticks\":\"\"},\"colorscale\":[[0.0,\"#0d0887\"],[0.1111111111111111,\"#46039f\"],[0.2222222222222222,\"#7201a8\"],[0.3333333333333333,\"#9c179e\"],[0.4444444444444444,\"#bd3786\"],[0.5555555555555556,\"#d8576b\"],[0.6666666666666666,\"#ed7953\"],[0.7777777777777778,\"#fb9f3a\"],[0.8888888888888888,\"#fdca26\"],[1.0,\"#f0f921\"]],\"type\":\"heatmap\"}],\"heatmapgl\":[{\"colorbar\":{\"outlinewidth\":0,\"ticks\":\"\"},\"colorscale\":[[0.0,\"#0d0887\"],[0.1111111111111111,\"#46039f\"],[0.2222222222222222,\"#7201a8\"],[0.3333333333333333,\"#9c179e\"],[0.4444444444444444,\"#bd3786\"],[0.5555555555555556,\"#d8576b\"],[0.6666666666666666,\"#ed7953\"],[0.7777777777777778,\"#fb9f3a\"],[0.8888888888888888,\"#fdca26\"],[1.0,\"#f0f921\"]],\"type\":\"heatmapgl\"}],\"histogram\":[{\"marker\":{\"pattern\":{\"fillmode\":\"overlay\",\"size\":10,\"solidity\":0.2}},\"type\":\"histogram\"}],\"histogram2d\":[{\"colorbar\":{\"outlinewidth\":0,\"ticks\":\"\"},\"colorscale\":[[0.0,\"#0d0887\"],[0.1111111111111111,\"#46039f\"],[0.2222222222222222,\"#7201a8\"],[0.3333333333333333,\"#9c179e\"],[0.4444444444444444,\"#bd3786\"],[0.5555555555555556,\"#d8576b\"],[0.6666666666666666,\"#ed7953\"],[0.7777777777777778,\"#fb9f3a\"],[0.8888888888888888,\"#fdca26\"],[1.0,\"#f0f921\"]],\"type\":\"histogram2d\"}],\"histogram2dcontour\":[{\"colorbar\":{\"outlinewidth\":0,\"ticks\":\"\"},\"colorscale\":[[0.0,\"#0d0887\"],[0.1111111111111111,\"#46039f\"],[0.2222222222222222,\"#7201a8\"],[0.3333333333333333,\"#9c179e\"],[0.4444444444444444,\"#bd3786\"],[0.5555555555555556,\"#d8576b\"],[0.6666666666666666,\"#ed7953\"],[0.7777777777777778,\"#fb9f3a\"],[0.8888888888888888,\"#fdca26\"],[1.0,\"#f0f921\"]],\"type\":\"histogram2dcontour\"}],\"mesh3d\":[{\"colorbar\":{\"outlinewidth\":0,\"ticks\":\"\"},\"type\":\"mesh3d\"}],\"parcoords\":[{\"line\":{\"colorbar\":{\"outlinewidth\":0,\"ticks\":\"\"}},\"type\":\"parcoords\"}],\"pie\":[{\"automargin\":true,\"type\":\"pie\"}],\"scatter\":[{\"marker\":{\"colorbar\":{\"outlinewidth\":0,\"ticks\":\"\"}},\"type\":\"scatter\"}],\"scatter3d\":[{\"line\":{\"colorbar\":{\"outlinewidth\":0,\"ticks\":\"\"}},\"marker\":{\"colorbar\":{\"outlinewidth\":0,\"ticks\":\"\"}},\"type\":\"scatter3d\"}],\"scattercarpet\":[{\"marker\":{\"colorbar\":{\"outlinewidth\":0,\"ticks\":\"\"}},\"type\":\"scattercarpet\"}],\"scattergeo\":[{\"marker\":{\"colorbar\":{\"outlinewidth\":0,\"ticks\":\"\"}},\"type\":\"scattergeo\"}],\"scattergl\":[{\"marker\":{\"colorbar\":{\"outlinewidth\":0,\"ticks\":\"\"}},\"type\":\"scattergl\"}],\"scattermapbox\":[{\"marker\":{\"colorbar\":{\"outlinewidth\":0,\"ticks\":\"\"}},\"type\":\"scattermapbox\"}],\"scatterpolar\":[{\"marker\":{\"colorbar\":{\"outlinewidth\":0,\"ticks\":\"\"}},\"type\":\"scatterpolar\"}],\"scatterpolargl\":[{\"marker\":{\"colorbar\":{\"outlinewidth\":0,\"ticks\":\"\"}},\"type\":\"scatterpolargl\"}],\"scatterternary\":[{\"marker\":{\"colorbar\":{\"outlinewidth\":0,\"ticks\":\"\"}},\"type\":\"scatterternary\"}],\"surface\":[{\"colorbar\":{\"outlinewidth\":0,\"ticks\":\"\"},\"colorscale\":[[0.0,\"#0d0887\"],[0.1111111111111111,\"#46039f\"],[0.2222222222222222,\"#7201a8\"],[0.3333333333333333,\"#9c179e\"],[0.4444444444444444,\"#bd3786\"],[0.5555555555555556,\"#d8576b\"],[0.6666666666666666,\"#ed7953\"],[0.7777777777777778,\"#fb9f3a\"],[0.8888888888888888,\"#fdca26\"],[1.0,\"#f0f921\"]],\"type\":\"surface\"}],\"table\":[{\"cells\":{\"fill\":{\"color\":\"#EBF0F8\"},\"line\":{\"color\":\"white\"}},\"header\":{\"fill\":{\"color\":\"#C8D4E3\"},\"line\":{\"color\":\"white\"}},\"type\":\"table\"}]},\"layout\":{\"annotationdefaults\":{\"arrowcolor\":\"#2a3f5f\",\"arrowhead\":0,\"arrowwidth\":1},\"autotypenumbers\":\"strict\",\"coloraxis\":{\"colorbar\":{\"outlinewidth\":0,\"ticks\":\"\"}},\"colorscale\":{\"diverging\":[[0,\"#8e0152\"],[0.1,\"#c51b7d\"],[0.2,\"#de77ae\"],[0.3,\"#f1b6da\"],[0.4,\"#fde0ef\"],[0.5,\"#f7f7f7\"],[0.6,\"#e6f5d0\"],[0.7,\"#b8e186\"],[0.8,\"#7fbc41\"],[0.9,\"#4d9221\"],[1,\"#276419\"]],\"sequential\":[[0.0,\"#0d0887\"],[0.1111111111111111,\"#46039f\"],[0.2222222222222222,\"#7201a8\"],[0.3333333333333333,\"#9c179e\"],[0.4444444444444444,\"#bd3786\"],[0.5555555555555556,\"#d8576b\"],[0.6666666666666666,\"#ed7953\"],[0.7777777777777778,\"#fb9f3a\"],[0.8888888888888888,\"#fdca26\"],[1.0,\"#f0f921\"]],\"sequentialminus\":[[0.0,\"#0d0887\"],[0.1111111111111111,\"#46039f\"],[0.2222222222222222,\"#7201a8\"],[0.3333333333333333,\"#9c179e\"],[0.4444444444444444,\"#bd3786\"],[0.5555555555555556,\"#d8576b\"],[0.6666666666666666,\"#ed7953\"],[0.7777777777777778,\"#fb9f3a\"],[0.8888888888888888,\"#fdca26\"],[1.0,\"#f0f921\"]]},\"colorway\":[\"#636efa\",\"#EF553B\",\"#00cc96\",\"#ab63fa\",\"#FFA15A\",\"#19d3f3\",\"#FF6692\",\"#B6E880\",\"#FF97FF\",\"#FECB52\"],\"font\":{\"color\":\"#2a3f5f\"},\"geo\":{\"bgcolor\":\"white\",\"lakecolor\":\"white\",\"landcolor\":\"#E5ECF6\",\"showlakes\":true,\"showland\":true,\"subunitcolor\":\"white\"},\"hoverlabel\":{\"align\":\"left\"},\"hovermode\":\"closest\",\"mapbox\":{\"style\":\"light\"},\"paper_bgcolor\":\"white\",\"plot_bgcolor\":\"#E5ECF6\",\"polar\":{\"angularaxis\":{\"gridcolor\":\"white\",\"linecolor\":\"white\",\"ticks\":\"\"},\"bgcolor\":\"#E5ECF6\",\"radialaxis\":{\"gridcolor\":\"white\",\"linecolor\":\"white\",\"ticks\":\"\"}},\"scene\":{\"xaxis\":{\"backgroundcolor\":\"#E5ECF6\",\"gridcolor\":\"white\",\"gridwidth\":2,\"linecolor\":\"white\",\"showbackground\":true,\"ticks\":\"\",\"zerolinecolor\":\"white\"},\"yaxis\":{\"backgroundcolor\":\"#E5ECF6\",\"gridcolor\":\"white\",\"gridwidth\":2,\"linecolor\":\"white\",\"showbackground\":true,\"ticks\":\"\",\"zerolinecolor\":\"white\"},\"zaxis\":{\"backgroundcolor\":\"#E5ECF6\",\"gridcolor\":\"white\",\"gridwidth\":2,\"linecolor\":\"white\",\"showbackground\":true,\"ticks\":\"\",\"zerolinecolor\":\"white\"}},\"shapedefaults\":{\"line\":{\"color\":\"#2a3f5f\"}},\"ternary\":{\"aaxis\":{\"gridcolor\":\"white\",\"linecolor\":\"white\",\"ticks\":\"\"},\"baxis\":{\"gridcolor\":\"white\",\"linecolor\":\"white\",\"ticks\":\"\"},\"bgcolor\":\"#E5ECF6\",\"caxis\":{\"gridcolor\":\"white\",\"linecolor\":\"white\",\"ticks\":\"\"}},\"title\":{\"x\":0.05},\"xaxis\":{\"automargin\":true,\"gridcolor\":\"white\",\"linecolor\":\"white\",\"ticks\":\"\",\"title\":{\"standoff\":15},\"zerolinecolor\":\"white\",\"zerolinewidth\":2},\"yaxis\":{\"automargin\":true,\"gridcolor\":\"white\",\"linecolor\":\"white\",\"ticks\":\"\",\"title\":{\"standoff\":15},\"zerolinecolor\":\"white\",\"zerolinewidth\":2}}},\"xaxis\":{\"anchor\":\"y\",\"domain\":[0.0,1.0],\"title\":{\"text\":\"False Positive Ratio (FPR)\"},\"range\":[0,1]},\"yaxis\":{\"anchor\":\"x\",\"domain\":[0.0,1.0],\"title\":{\"text\":\"Cohen's Kappa\"},\"range\":[0,0.42]},\"legend\":{\"tracegroupgap\":0},\"margin\":{\"t\":60},\"width\":500,\"height\":400,\"shapes\":[{\"editable\":true,\"line\":{\"color\":\"red\"},\"x0\":0.3772244591551219,\"x1\":0.41722445915512196,\"xref\":\"x\",\"y0\":0.3722244591551219,\"y1\":0.39722445915512195,\"yref\":\"y\"}]},                        {\"responsive\": true}                    ).then(function(){\n",
       "                            \n",
       "var gd = document.getElementById('487366ba-454d-4d07-aa28-f011ded6963f');\n",
       "var x = new MutationObserver(function (mutations, observer) {{\n",
       "        var display = window.getComputedStyle(gd).display;\n",
       "        if (!display || display === 'none') {{\n",
       "            console.log([gd, 'removed!']);\n",
       "            Plotly.purge(gd);\n",
       "            observer.disconnect();\n",
       "        }}\n",
       "}});\n",
       "\n",
       "// Listen for the removal of the full notebook cells\n",
       "var notebookContainer = gd.closest('#notebook-container');\n",
       "if (notebookContainer) {{\n",
       "    x.observe(notebookContainer, {childList: true});\n",
       "}}\n",
       "\n",
       "// Listen for the clearing of the current output cell\n",
       "var outputEl = gd.closest('.output');\n",
       "if (outputEl) {{\n",
       "    x.observe(outputEl, {childList: true});\n",
       "}}\n",
       "\n",
       "                        })                };                });            </script>        </div>"
      ]
     },
     "metadata": {},
     "output_type": "display_data"
    },
    {
     "name": "stdout",
     "output_type": "stream",
     "text": [
      "91\n",
      "0.38722445915512194\n",
      "0.39622641509433965\n"
     ]
    }
   ],
   "source": [
    "d = {'kappa_vals': kappa_vals, 'fpr_vals': fpr_vals, 'tpr_vals': tpr_vals}\n",
    "df = pd.DataFrame(data=d)\n",
    "highest_kappa = kappa_vals[kappa_index]\n",
    "\n",
    "fig = px.line(df, x=\"fpr_vals\", y=\"kappa_vals\")\n",
    "fig.update_layout(width=500, height=400)\n",
    "fig.update_yaxes(range=[0, 0.42], title=\"Cohen's Kappa\")\n",
    "fig.update_xaxes(range=[0, 1], title='False Positive Ratio (FPR)')\n",
    "\n",
    "\n",
    "fig.add_shape(editable=True,\n",
    "              x0=highest_kappa-0.01, x1=highest_kappa+0.03, y0=highest_kappa-0.015, y1=highest_kappa+0.01,\n",
    "              xref='x', yref='y', line_color='red')\n",
    "\n",
    "fig.show()\n",
    "\n",
    "print(kappa_index)\n",
    "print(kappa_vals[kappa_index])\n",
    "print(fpr_vals[kappa_index])"
   ]
  },
  {
   "cell_type": "code",
   "execution_count": 175,
   "id": "716f02e7-407b-4b6b-85ff-5781752814b4",
   "metadata": {},
   "outputs": [
    {
     "data": {
      "application/vnd.plotly.v1+json": {
       "config": {
        "plotlyServerURL": "https://plot.ly"
       },
       "data": [
        {
         "hovertemplate": "fpr_vals=%{x}<br>tpr_vals=%{y}<extra></extra>",
         "legendgroup": "",
         "line": {
          "color": "#636efa",
          "dash": "solid"
         },
         "marker": {
          "symbol": "circle"
         },
         "mode": "lines",
         "name": "",
         "orientation": "v",
         "showlegend": false,
         "type": "scatter",
         "x": [
          1,
          0.9811320754716981,
          0.9716981132075472,
          0.9622641509433962,
          0.9339622641509434,
          0.9245283018867925,
          0.9056603773584906,
          0.8962264150943395,
          0.8867924528301887,
          0.8773584905660378,
          0.8679245283018868,
          0.8584905660377359,
          0.8490566037735848,
          0.839622641509434,
          0.8301886792452831,
          0.8301886792452831,
          0.820754716981132,
          0.8113207547169812,
          0.8018867924528301,
          0.7924528301886793,
          0.7830188679245282,
          0.7735849056603773,
          0.7735849056603773,
          0.7735849056603773,
          0.7735849056603773,
          0.7735849056603773,
          0.7735849056603773,
          0.7641509433962265,
          0.7547169811320754,
          0.7452830188679246,
          0.7452830188679246,
          0.7358490566037735,
          0.7264150943396226,
          0.7264150943396226,
          0.7264150943396226,
          0.7264150943396226,
          0.7169811320754718,
          0.7169811320754718,
          0.7075471698113207,
          0.6981132075471699,
          0.6886792452830188,
          0.6886792452830188,
          0.6792452830188679,
          0.6698113207547169,
          0.660377358490566,
          0.6509433962264152,
          0.6509433962264152,
          0.6415094339622641,
          0.6320754716981132,
          0.6226415094339622,
          0.6226415094339622,
          0.6226415094339622,
          0.6226415094339622,
          0.6132075471698113,
          0.6037735849056605,
          0.6037735849056605,
          0.5943396226415094,
          0.5943396226415094,
          0.5943396226415094,
          0.5849056603773585,
          0.5754716981132075,
          0.5754716981132075,
          0.5660377358490566,
          0.5566037735849056,
          0.5471698113207547,
          0.5471698113207547,
          0.5471698113207547,
          0.5377358490566038,
          0.5283018867924528,
          0.5283018867924528,
          0.5283018867924528,
          0.5188679245283019,
          0.5094339622641509,
          0.5094339622641509,
          0.5,
          0.49056603773584906,
          0.48113207547169806,
          0.48113207547169806,
          0.4716981132075471,
          0.4716981132075471,
          0.4716981132075471,
          0.46226415094339623,
          0.4528301886792453,
          0.44339622641509435,
          0.43396226415094336,
          0.43396226415094336,
          0.43396226415094336,
          0.4245283018867924,
          0.4245283018867924,
          0.41509433962264153,
          0.4056603773584906,
          0.39622641509433965,
          0.39622641509433965,
          0.39622641509433965,
          0.39622641509433965,
          0.39622641509433965,
          0.38679245283018865,
          0.38679245283018865,
          0.3773584905660377,
          0.3773584905660377,
          0.36792452830188677,
          0.36792452830188677,
          0.3584905660377359,
          0.34905660377358494,
          0.34905660377358494,
          0.33962264150943394,
          0.33962264150943394,
          0.33962264150943394,
          0.33962264150943394,
          0.33962264150943394,
          0.33962264150943394,
          0.330188679245283,
          0.32075471698113206,
          0.3113207547169811,
          0.3113207547169811,
          0.3113207547169811,
          0.3113207547169811,
          0.30188679245283023,
          0.29245283018867924,
          0.2830188679245283,
          0.2830188679245283,
          0.2830188679245283,
          0.2830188679245283,
          0.2830188679245283,
          0.27358490566037735,
          0.27358490566037735,
          0.27358490566037735,
          0.27358490566037735,
          0.2641509433962264,
          0.2641509433962264,
          0.2641509433962264,
          0.2641509433962264,
          0.2641509433962264,
          0.25471698113207547,
          0.25471698113207547,
          0.25471698113207547,
          0.25471698113207547,
          0.25471698113207547,
          0.24528301886792453,
          0.23584905660377356,
          0.22641509433962265,
          0.22641509433962265,
          0.21698113207547168,
          0.20754716981132076,
          0.20754716981132076,
          0.20754716981132076,
          0.20754716981132076,
          0.19811320754716982,
          0.18867924528301885,
          0.17924528301886794,
          0.17924528301886794,
          0.16981132075471697,
          0.16981132075471697,
          0.16981132075471697,
          0.16981132075471697,
          0.16981132075471697,
          0.16981132075471697,
          0.16981132075471697,
          0.16981132075471697,
          0.16981132075471697,
          0.16981132075471697,
          0.16037735849056603,
          0.15094339622641512,
          0.15094339622641512,
          0.15094339622641512,
          0.14150943396226415,
          0.14150943396226415,
          0.14150943396226415,
          0.14150943396226415,
          0.14150943396226415,
          0.14150943396226415,
          0.14150943396226415,
          0.1320754716981132,
          0.1320754716981132,
          0.1320754716981132,
          0.1320754716981132,
          0.1320754716981132,
          0.1320754716981132,
          0.12264150943396226,
          0.12264150943396226,
          0.11320754716981132,
          0.11320754716981132,
          0.11320754716981132,
          0.11320754716981132,
          0.10377358490566038,
          0.09433962264150943,
          0.09433962264150943,
          0.09433962264150943,
          0.0849056603773585,
          0.0849056603773585,
          0.0849056603773585,
          0.0849056603773585,
          0.0849056603773585,
          0.0849056603773585,
          0.0849056603773585,
          0.0849056603773585,
          0.0849056603773585,
          0.07547169811320756,
          0.07547169811320756,
          0.07547169811320756,
          0.07547169811320756,
          0.07547169811320756,
          0.07547169811320756,
          0.07547169811320756,
          0.07547169811320756,
          0.07547169811320756,
          0.07547169811320756,
          0.0660377358490566,
          0.05660377358490566,
          0.05660377358490566,
          0.05660377358490566,
          0.05660377358490566,
          0.05660377358490566,
          0.05660377358490566,
          0.04716981132075471,
          0.04716981132075471,
          0.04716981132075471,
          0.03773584905660378,
          0.03773584905660378,
          0.03773584905660378,
          0.03773584905660378,
          0.03773584905660378,
          0.03773584905660378,
          0.03773584905660378,
          0.03773584905660378,
          0.02830188679245283,
          0.02830188679245283,
          0.02830188679245283,
          0.01886792452830189,
          0.01886792452830189,
          0.01886792452830189,
          0.01886792452830189,
          0.01886792452830189,
          0.01886792452830189,
          0.009433962264150945,
          0.009433962264150945,
          0.009433962264150945,
          0.009433962264150945,
          0.009433962264150945,
          0.009433962264150945,
          0.009433962264150945,
          0.009433962264150945,
          0
         ],
         "xaxis": "x",
         "y": [
          1,
          1,
          1,
          1,
          1,
          1,
          1,
          1,
          1,
          1,
          1,
          1,
          1,
          1,
          1,
          0.9928571428571429,
          0.9928571428571429,
          0.9928571428571429,
          0.9928571428571429,
          0.9928571428571429,
          0.9928571428571429,
          0.9928571428571429,
          0.9857142857142857,
          0.9785714285714285,
          0.9714285714285714,
          0.9642857142857144,
          0.9571428571428571,
          0.9571428571428571,
          0.9571428571428571,
          0.9571428571428571,
          0.9500000000000001,
          0.9500000000000001,
          0.9500000000000001,
          0.942857142857143,
          0.9357142857142856,
          0.9285714285714286,
          0.9285714285714286,
          0.9214285714285715,
          0.9214285714285715,
          0.9214285714285715,
          0.9214285714285715,
          0.9142857142857143,
          0.9142857142857143,
          0.9142857142857143,
          0.9142857142857143,
          0.9142857142857143,
          0.9071428571428571,
          0.9071428571428571,
          0.9071428571428571,
          0.9071428571428571,
          0.9,
          0.8928571428571429,
          0.8857142857142857,
          0.8857142857142857,
          0.8857142857142857,
          0.8785714285714286,
          0.8785714285714286,
          0.8714285714285714,
          0.8642857142857143,
          0.8642857142857143,
          0.8642857142857143,
          0.8571428571428571,
          0.8571428571428571,
          0.8571428571428571,
          0.8571428571428571,
          0.8500000000000001,
          0.8428571428571429,
          0.8428571428571429,
          0.8428571428571429,
          0.8357142857142857,
          0.8285714285714286,
          0.8285714285714286,
          0.8285714285714286,
          0.8214285714285714,
          0.8214285714285714,
          0.8214285714285714,
          0.8214285714285714,
          0.8142857142857144,
          0.8142857142857144,
          0.8071428571428572,
          0.7999999999999999,
          0.7999999999999999,
          0.7999999999999999,
          0.7999999999999999,
          0.7999999999999999,
          0.7928571428571429,
          0.7857142857142857,
          0.7857142857142857,
          0.7785714285714286,
          0.7785714285714286,
          0.7785714285714286,
          0.7785714285714286,
          0.7714285714285715,
          0.7642857142857142,
          0.7571428571428572,
          0.75,
          0.75,
          0.7428571428571429,
          0.7428571428571429,
          0.7357142857142858,
          0.7357142857142858,
          0.7285714285714285,
          0.7285714285714285,
          0.7285714285714285,
          0.7214285714285714,
          0.7214285714285714,
          0.7142857142857143,
          0.7071428571428572,
          0.7000000000000001,
          0.6928571428571428,
          0.6857142857142857,
          0.6857142857142857,
          0.6857142857142857,
          0.6857142857142857,
          0.6785714285714286,
          0.6714285714285715,
          0.6642857142857143,
          0.6642857142857143,
          0.6642857142857143,
          0.6642857142857143,
          0.6571428571428571,
          0.65,
          0.6428571428571429,
          0.6357142857142858,
          0.6357142857142858,
          0.6285714285714286,
          0.6214285714285714,
          0.6142857142857143,
          0.6142857142857143,
          0.6071428571428571,
          0.6000000000000001,
          0.5928571428571429,
          0.5857142857142857,
          0.5857142857142857,
          0.5785714285714286,
          0.5714285714285714,
          0.5642857142857144,
          0.5571428571428572,
          0.5571428571428572,
          0.5571428571428572,
          0.5571428571428572,
          0.5499999999999999,
          0.5499999999999999,
          0.5499999999999999,
          0.5428571428571429,
          0.5357142857142857,
          0.5285714285714286,
          0.5285714285714286,
          0.5285714285714286,
          0.5285714285714286,
          0.5214285714285715,
          0.5214285714285715,
          0.5142857142857142,
          0.5071428571428572,
          0.5,
          0.49285714285714294,
          0.4857142857142857,
          0.47857142857142854,
          0.4714285714285715,
          0.4642857142857143,
          0.4571428571428572,
          0.4571428571428572,
          0.4571428571428572,
          0.45,
          0.44285714285714284,
          0.44285714285714284,
          0.4357142857142857,
          0.42857142857142855,
          0.42142857142857143,
          0.4142857142857143,
          0.4071428571428572,
          0.39999999999999997,
          0.39999999999999997,
          0.39285714285714285,
          0.38571428571428573,
          0.3785714285714286,
          0.37142857142857144,
          0.36428571428571427,
          0.36428571428571427,
          0.35714285714285715,
          0.35714285714285715,
          0.35000000000000003,
          0.34285714285714286,
          0.33571428571428574,
          0.33571428571428574,
          0.33571428571428574,
          0.32857142857142857,
          0.32142857142857145,
          0.32142857142857145,
          0.3142857142857143,
          0.30714285714285716,
          0.30000000000000004,
          0.29285714285714287,
          0.2857142857142857,
          0.2785714285714286,
          0.27142857142857146,
          0.2642857142857143,
          0.2642857142857143,
          0.2571428571428571,
          0.25,
          0.24285714285714285,
          0.23571428571428574,
          0.2285714285714286,
          0.22142857142857142,
          0.21428571428571427,
          0.20714285714285716,
          0.19999999999999998,
          0.19999999999999998,
          0.19999999999999998,
          0.19285714285714287,
          0.18571428571428572,
          0.17857142857142858,
          0.17142857142857143,
          0.16428571428571428,
          0.16428571428571428,
          0.15714285714285714,
          0.15000000000000002,
          0.15000000000000002,
          0.14285714285714285,
          0.13571428571428573,
          0.12857142857142856,
          0.12142857142857143,
          0.1142857142857143,
          0.10714285714285714,
          0.09999999999999999,
          0.09999999999999999,
          0.09285714285714286,
          0.0857142857142857,
          0.0857142857142857,
          0.07857142857142857,
          0.07142857142857142,
          0.06428571428571428,
          0.05714285714285715,
          0.049999999999999996,
          0.049999999999999996,
          0.04285714285714286,
          0.03571428571428571,
          0.028571428571428574,
          0.02142857142857143,
          0.014285714285714285,
          0.0071428571428571435,
          0,
          0
         ],
         "yaxis": "y"
        }
       ],
       "layout": {
        "height": 400,
        "legend": {
         "tracegroupgap": 0
        },
        "margin": {
         "t": 60
        },
        "shapes": [
         {
          "line": {
           "color": "red",
           "dash": "dot",
           "width": 2
          },
          "type": "line",
          "x0": 0,
          "x1": 1,
          "y0": 0,
          "y1": 1
         },
         {
          "editable": true,
          "line": {
           "color": "red"
          },
          "x0": 0.38122641509433963,
          "x1": 0.42122641509433967,
          "xref": "x",
          "y0": 0.7485714285714286,
          "y1": 0.7985714285714286,
          "yref": "y"
         }
        ],
        "template": {
         "data": {
          "bar": [
           {
            "error_x": {
             "color": "#2a3f5f"
            },
            "error_y": {
             "color": "#2a3f5f"
            },
            "marker": {
             "line": {
              "color": "#E5ECF6",
              "width": 0.5
             },
             "pattern": {
              "fillmode": "overlay",
              "size": 10,
              "solidity": 0.2
             }
            },
            "type": "bar"
           }
          ],
          "barpolar": [
           {
            "marker": {
             "line": {
              "color": "#E5ECF6",
              "width": 0.5
             },
             "pattern": {
              "fillmode": "overlay",
              "size": 10,
              "solidity": 0.2
             }
            },
            "type": "barpolar"
           }
          ],
          "carpet": [
           {
            "aaxis": {
             "endlinecolor": "#2a3f5f",
             "gridcolor": "white",
             "linecolor": "white",
             "minorgridcolor": "white",
             "startlinecolor": "#2a3f5f"
            },
            "baxis": {
             "endlinecolor": "#2a3f5f",
             "gridcolor": "white",
             "linecolor": "white",
             "minorgridcolor": "white",
             "startlinecolor": "#2a3f5f"
            },
            "type": "carpet"
           }
          ],
          "choropleth": [
           {
            "colorbar": {
             "outlinewidth": 0,
             "ticks": ""
            },
            "type": "choropleth"
           }
          ],
          "contour": [
           {
            "colorbar": {
             "outlinewidth": 0,
             "ticks": ""
            },
            "colorscale": [
             [
              0,
              "#0d0887"
             ],
             [
              0.1111111111111111,
              "#46039f"
             ],
             [
              0.2222222222222222,
              "#7201a8"
             ],
             [
              0.3333333333333333,
              "#9c179e"
             ],
             [
              0.4444444444444444,
              "#bd3786"
             ],
             [
              0.5555555555555556,
              "#d8576b"
             ],
             [
              0.6666666666666666,
              "#ed7953"
             ],
             [
              0.7777777777777778,
              "#fb9f3a"
             ],
             [
              0.8888888888888888,
              "#fdca26"
             ],
             [
              1,
              "#f0f921"
             ]
            ],
            "type": "contour"
           }
          ],
          "contourcarpet": [
           {
            "colorbar": {
             "outlinewidth": 0,
             "ticks": ""
            },
            "type": "contourcarpet"
           }
          ],
          "heatmap": [
           {
            "colorbar": {
             "outlinewidth": 0,
             "ticks": ""
            },
            "colorscale": [
             [
              0,
              "#0d0887"
             ],
             [
              0.1111111111111111,
              "#46039f"
             ],
             [
              0.2222222222222222,
              "#7201a8"
             ],
             [
              0.3333333333333333,
              "#9c179e"
             ],
             [
              0.4444444444444444,
              "#bd3786"
             ],
             [
              0.5555555555555556,
              "#d8576b"
             ],
             [
              0.6666666666666666,
              "#ed7953"
             ],
             [
              0.7777777777777778,
              "#fb9f3a"
             ],
             [
              0.8888888888888888,
              "#fdca26"
             ],
             [
              1,
              "#f0f921"
             ]
            ],
            "type": "heatmap"
           }
          ],
          "heatmapgl": [
           {
            "colorbar": {
             "outlinewidth": 0,
             "ticks": ""
            },
            "colorscale": [
             [
              0,
              "#0d0887"
             ],
             [
              0.1111111111111111,
              "#46039f"
             ],
             [
              0.2222222222222222,
              "#7201a8"
             ],
             [
              0.3333333333333333,
              "#9c179e"
             ],
             [
              0.4444444444444444,
              "#bd3786"
             ],
             [
              0.5555555555555556,
              "#d8576b"
             ],
             [
              0.6666666666666666,
              "#ed7953"
             ],
             [
              0.7777777777777778,
              "#fb9f3a"
             ],
             [
              0.8888888888888888,
              "#fdca26"
             ],
             [
              1,
              "#f0f921"
             ]
            ],
            "type": "heatmapgl"
           }
          ],
          "histogram": [
           {
            "marker": {
             "pattern": {
              "fillmode": "overlay",
              "size": 10,
              "solidity": 0.2
             }
            },
            "type": "histogram"
           }
          ],
          "histogram2d": [
           {
            "colorbar": {
             "outlinewidth": 0,
             "ticks": ""
            },
            "colorscale": [
             [
              0,
              "#0d0887"
             ],
             [
              0.1111111111111111,
              "#46039f"
             ],
             [
              0.2222222222222222,
              "#7201a8"
             ],
             [
              0.3333333333333333,
              "#9c179e"
             ],
             [
              0.4444444444444444,
              "#bd3786"
             ],
             [
              0.5555555555555556,
              "#d8576b"
             ],
             [
              0.6666666666666666,
              "#ed7953"
             ],
             [
              0.7777777777777778,
              "#fb9f3a"
             ],
             [
              0.8888888888888888,
              "#fdca26"
             ],
             [
              1,
              "#f0f921"
             ]
            ],
            "type": "histogram2d"
           }
          ],
          "histogram2dcontour": [
           {
            "colorbar": {
             "outlinewidth": 0,
             "ticks": ""
            },
            "colorscale": [
             [
              0,
              "#0d0887"
             ],
             [
              0.1111111111111111,
              "#46039f"
             ],
             [
              0.2222222222222222,
              "#7201a8"
             ],
             [
              0.3333333333333333,
              "#9c179e"
             ],
             [
              0.4444444444444444,
              "#bd3786"
             ],
             [
              0.5555555555555556,
              "#d8576b"
             ],
             [
              0.6666666666666666,
              "#ed7953"
             ],
             [
              0.7777777777777778,
              "#fb9f3a"
             ],
             [
              0.8888888888888888,
              "#fdca26"
             ],
             [
              1,
              "#f0f921"
             ]
            ],
            "type": "histogram2dcontour"
           }
          ],
          "mesh3d": [
           {
            "colorbar": {
             "outlinewidth": 0,
             "ticks": ""
            },
            "type": "mesh3d"
           }
          ],
          "parcoords": [
           {
            "line": {
             "colorbar": {
              "outlinewidth": 0,
              "ticks": ""
             }
            },
            "type": "parcoords"
           }
          ],
          "pie": [
           {
            "automargin": true,
            "type": "pie"
           }
          ],
          "scatter": [
           {
            "marker": {
             "colorbar": {
              "outlinewidth": 0,
              "ticks": ""
             }
            },
            "type": "scatter"
           }
          ],
          "scatter3d": [
           {
            "line": {
             "colorbar": {
              "outlinewidth": 0,
              "ticks": ""
             }
            },
            "marker": {
             "colorbar": {
              "outlinewidth": 0,
              "ticks": ""
             }
            },
            "type": "scatter3d"
           }
          ],
          "scattercarpet": [
           {
            "marker": {
             "colorbar": {
              "outlinewidth": 0,
              "ticks": ""
             }
            },
            "type": "scattercarpet"
           }
          ],
          "scattergeo": [
           {
            "marker": {
             "colorbar": {
              "outlinewidth": 0,
              "ticks": ""
             }
            },
            "type": "scattergeo"
           }
          ],
          "scattergl": [
           {
            "marker": {
             "colorbar": {
              "outlinewidth": 0,
              "ticks": ""
             }
            },
            "type": "scattergl"
           }
          ],
          "scattermapbox": [
           {
            "marker": {
             "colorbar": {
              "outlinewidth": 0,
              "ticks": ""
             }
            },
            "type": "scattermapbox"
           }
          ],
          "scatterpolar": [
           {
            "marker": {
             "colorbar": {
              "outlinewidth": 0,
              "ticks": ""
             }
            },
            "type": "scatterpolar"
           }
          ],
          "scatterpolargl": [
           {
            "marker": {
             "colorbar": {
              "outlinewidth": 0,
              "ticks": ""
             }
            },
            "type": "scatterpolargl"
           }
          ],
          "scatterternary": [
           {
            "marker": {
             "colorbar": {
              "outlinewidth": 0,
              "ticks": ""
             }
            },
            "type": "scatterternary"
           }
          ],
          "surface": [
           {
            "colorbar": {
             "outlinewidth": 0,
             "ticks": ""
            },
            "colorscale": [
             [
              0,
              "#0d0887"
             ],
             [
              0.1111111111111111,
              "#46039f"
             ],
             [
              0.2222222222222222,
              "#7201a8"
             ],
             [
              0.3333333333333333,
              "#9c179e"
             ],
             [
              0.4444444444444444,
              "#bd3786"
             ],
             [
              0.5555555555555556,
              "#d8576b"
             ],
             [
              0.6666666666666666,
              "#ed7953"
             ],
             [
              0.7777777777777778,
              "#fb9f3a"
             ],
             [
              0.8888888888888888,
              "#fdca26"
             ],
             [
              1,
              "#f0f921"
             ]
            ],
            "type": "surface"
           }
          ],
          "table": [
           {
            "cells": {
             "fill": {
              "color": "#EBF0F8"
             },
             "line": {
              "color": "white"
             }
            },
            "header": {
             "fill": {
              "color": "#C8D4E3"
             },
             "line": {
              "color": "white"
             }
            },
            "type": "table"
           }
          ]
         },
         "layout": {
          "annotationdefaults": {
           "arrowcolor": "#2a3f5f",
           "arrowhead": 0,
           "arrowwidth": 1
          },
          "autotypenumbers": "strict",
          "coloraxis": {
           "colorbar": {
            "outlinewidth": 0,
            "ticks": ""
           }
          },
          "colorscale": {
           "diverging": [
            [
             0,
             "#8e0152"
            ],
            [
             0.1,
             "#c51b7d"
            ],
            [
             0.2,
             "#de77ae"
            ],
            [
             0.3,
             "#f1b6da"
            ],
            [
             0.4,
             "#fde0ef"
            ],
            [
             0.5,
             "#f7f7f7"
            ],
            [
             0.6,
             "#e6f5d0"
            ],
            [
             0.7,
             "#b8e186"
            ],
            [
             0.8,
             "#7fbc41"
            ],
            [
             0.9,
             "#4d9221"
            ],
            [
             1,
             "#276419"
            ]
           ],
           "sequential": [
            [
             0,
             "#0d0887"
            ],
            [
             0.1111111111111111,
             "#46039f"
            ],
            [
             0.2222222222222222,
             "#7201a8"
            ],
            [
             0.3333333333333333,
             "#9c179e"
            ],
            [
             0.4444444444444444,
             "#bd3786"
            ],
            [
             0.5555555555555556,
             "#d8576b"
            ],
            [
             0.6666666666666666,
             "#ed7953"
            ],
            [
             0.7777777777777778,
             "#fb9f3a"
            ],
            [
             0.8888888888888888,
             "#fdca26"
            ],
            [
             1,
             "#f0f921"
            ]
           ],
           "sequentialminus": [
            [
             0,
             "#0d0887"
            ],
            [
             0.1111111111111111,
             "#46039f"
            ],
            [
             0.2222222222222222,
             "#7201a8"
            ],
            [
             0.3333333333333333,
             "#9c179e"
            ],
            [
             0.4444444444444444,
             "#bd3786"
            ],
            [
             0.5555555555555556,
             "#d8576b"
            ],
            [
             0.6666666666666666,
             "#ed7953"
            ],
            [
             0.7777777777777778,
             "#fb9f3a"
            ],
            [
             0.8888888888888888,
             "#fdca26"
            ],
            [
             1,
             "#f0f921"
            ]
           ]
          },
          "colorway": [
           "#636efa",
           "#EF553B",
           "#00cc96",
           "#ab63fa",
           "#FFA15A",
           "#19d3f3",
           "#FF6692",
           "#B6E880",
           "#FF97FF",
           "#FECB52"
          ],
          "font": {
           "color": "#2a3f5f"
          },
          "geo": {
           "bgcolor": "white",
           "lakecolor": "white",
           "landcolor": "#E5ECF6",
           "showlakes": true,
           "showland": true,
           "subunitcolor": "white"
          },
          "hoverlabel": {
           "align": "left"
          },
          "hovermode": "closest",
          "mapbox": {
           "style": "light"
          },
          "paper_bgcolor": "white",
          "plot_bgcolor": "#E5ECF6",
          "polar": {
           "angularaxis": {
            "gridcolor": "white",
            "linecolor": "white",
            "ticks": ""
           },
           "bgcolor": "#E5ECF6",
           "radialaxis": {
            "gridcolor": "white",
            "linecolor": "white",
            "ticks": ""
           }
          },
          "scene": {
           "xaxis": {
            "backgroundcolor": "#E5ECF6",
            "gridcolor": "white",
            "gridwidth": 2,
            "linecolor": "white",
            "showbackground": true,
            "ticks": "",
            "zerolinecolor": "white"
           },
           "yaxis": {
            "backgroundcolor": "#E5ECF6",
            "gridcolor": "white",
            "gridwidth": 2,
            "linecolor": "white",
            "showbackground": true,
            "ticks": "",
            "zerolinecolor": "white"
           },
           "zaxis": {
            "backgroundcolor": "#E5ECF6",
            "gridcolor": "white",
            "gridwidth": 2,
            "linecolor": "white",
            "showbackground": true,
            "ticks": "",
            "zerolinecolor": "white"
           }
          },
          "shapedefaults": {
           "line": {
            "color": "#2a3f5f"
           }
          },
          "ternary": {
           "aaxis": {
            "gridcolor": "white",
            "linecolor": "white",
            "ticks": ""
           },
           "baxis": {
            "gridcolor": "white",
            "linecolor": "white",
            "ticks": ""
           },
           "bgcolor": "#E5ECF6",
           "caxis": {
            "gridcolor": "white",
            "linecolor": "white",
            "ticks": ""
           }
          },
          "title": {
           "x": 0.05
          },
          "xaxis": {
           "automargin": true,
           "gridcolor": "white",
           "linecolor": "white",
           "ticks": "",
           "title": {
            "standoff": 15
           },
           "zerolinecolor": "white",
           "zerolinewidth": 2
          },
          "yaxis": {
           "automargin": true,
           "gridcolor": "white",
           "linecolor": "white",
           "ticks": "",
           "title": {
            "standoff": 15
           },
           "zerolinecolor": "white",
           "zerolinewidth": 2
          }
         }
        },
        "width": 500,
        "xaxis": {
         "anchor": "y",
         "domain": [
          0,
          1
         ],
         "range": [
          0,
          1
         ],
         "title": {
          "text": "False Positive Ratio (FPR)"
         },
         "type": "linear"
        },
        "yaxis": {
         "anchor": "x",
         "domain": [
          0,
          1
         ],
         "range": [
          0,
          1
         ],
         "title": {
          "text": "True Positive Ratio (TPR)"
         },
         "type": "linear"
        }
       }
      },
      "image/png": "[encoded data removed]",
      "text/html": [
       "<div>                            <div id=\"90dbfdc5-4487-409a-b414-0932f398b23d\" class=\"plotly-graph-div\" style=\"height:400px; width:500px;\"></div>            <script type=\"text/javascript\">                require([\"plotly\"], function(Plotly) {                    window.PLOTLYENV=window.PLOTLYENV || {};                                    if (document.getElementById(\"90dbfdc5-4487-409a-b414-0932f398b23d\")) {                    Plotly.newPlot(                        \"90dbfdc5-4487-409a-b414-0932f398b23d\",                        [{\"hovertemplate\":\"fpr_vals=%{x}<br>tpr_vals=%{y}<extra></extra>\",\"legendgroup\":\"\",\"line\":{\"color\":\"#636efa\",\"dash\":\"solid\"},\"marker\":{\"symbol\":\"circle\"},\"mode\":\"lines\",\"name\":\"\",\"orientation\":\"v\",\"showlegend\":false,\"x\":[1.0,0.9811320754716981,0.9716981132075472,0.9622641509433962,0.9339622641509434,0.9245283018867925,0.9056603773584906,0.8962264150943395,0.8867924528301887,0.8773584905660378,0.8679245283018868,0.8584905660377359,0.8490566037735848,0.839622641509434,0.8301886792452831,0.8301886792452831,0.820754716981132,0.8113207547169812,0.8018867924528301,0.7924528301886793,0.7830188679245282,0.7735849056603773,0.7735849056603773,0.7735849056603773,0.7735849056603773,0.7735849056603773,0.7735849056603773,0.7641509433962265,0.7547169811320754,0.7452830188679246,0.7452830188679246,0.7358490566037735,0.7264150943396226,0.7264150943396226,0.7264150943396226,0.7264150943396226,0.7169811320754718,0.7169811320754718,0.7075471698113207,0.6981132075471699,0.6886792452830188,0.6886792452830188,0.6792452830188679,0.6698113207547169,0.660377358490566,0.6509433962264152,0.6509433962264152,0.6415094339622641,0.6320754716981132,0.6226415094339622,0.6226415094339622,0.6226415094339622,0.6226415094339622,0.6132075471698113,0.6037735849056605,0.6037735849056605,0.5943396226415094,0.5943396226415094,0.5943396226415094,0.5849056603773585,0.5754716981132075,0.5754716981132075,0.5660377358490566,0.5566037735849056,0.5471698113207547,0.5471698113207547,0.5471698113207547,0.5377358490566038,0.5283018867924528,0.5283018867924528,0.5283018867924528,0.5188679245283019,0.5094339622641509,0.5094339622641509,0.5,0.49056603773584906,0.48113207547169806,0.48113207547169806,0.4716981132075471,0.4716981132075471,0.4716981132075471,0.46226415094339623,0.4528301886792453,0.44339622641509435,0.43396226415094336,0.43396226415094336,0.43396226415094336,0.4245283018867924,0.4245283018867924,0.41509433962264153,0.4056603773584906,0.39622641509433965,0.39622641509433965,0.39622641509433965,0.39622641509433965,0.39622641509433965,0.38679245283018865,0.38679245283018865,0.3773584905660377,0.3773584905660377,0.36792452830188677,0.36792452830188677,0.3584905660377359,0.34905660377358494,0.34905660377358494,0.33962264150943394,0.33962264150943394,0.33962264150943394,0.33962264150943394,0.33962264150943394,0.33962264150943394,0.330188679245283,0.32075471698113206,0.3113207547169811,0.3113207547169811,0.3113207547169811,0.3113207547169811,0.30188679245283023,0.29245283018867924,0.2830188679245283,0.2830188679245283,0.2830188679245283,0.2830188679245283,0.2830188679245283,0.27358490566037735,0.27358490566037735,0.27358490566037735,0.27358490566037735,0.2641509433962264,0.2641509433962264,0.2641509433962264,0.2641509433962264,0.2641509433962264,0.25471698113207547,0.25471698113207547,0.25471698113207547,0.25471698113207547,0.25471698113207547,0.24528301886792453,0.23584905660377356,0.22641509433962265,0.22641509433962265,0.21698113207547168,0.20754716981132076,0.20754716981132076,0.20754716981132076,0.20754716981132076,0.19811320754716982,0.18867924528301885,0.17924528301886794,0.17924528301886794,0.16981132075471697,0.16981132075471697,0.16981132075471697,0.16981132075471697,0.16981132075471697,0.16981132075471697,0.16981132075471697,0.16981132075471697,0.16981132075471697,0.16981132075471697,0.16037735849056603,0.15094339622641512,0.15094339622641512,0.15094339622641512,0.14150943396226415,0.14150943396226415,0.14150943396226415,0.14150943396226415,0.14150943396226415,0.14150943396226415,0.14150943396226415,0.1320754716981132,0.1320754716981132,0.1320754716981132,0.1320754716981132,0.1320754716981132,0.1320754716981132,0.12264150943396226,0.12264150943396226,0.11320754716981132,0.11320754716981132,0.11320754716981132,0.11320754716981132,0.10377358490566038,0.09433962264150943,0.09433962264150943,0.09433962264150943,0.0849056603773585,0.0849056603773585,0.0849056603773585,0.0849056603773585,0.0849056603773585,0.0849056603773585,0.0849056603773585,0.0849056603773585,0.0849056603773585,0.07547169811320756,0.07547169811320756,0.07547169811320756,0.07547169811320756,0.07547169811320756,0.07547169811320756,0.07547169811320756,0.07547169811320756,0.07547169811320756,0.07547169811320756,0.0660377358490566,0.05660377358490566,0.05660377358490566,0.05660377358490566,0.05660377358490566,0.05660377358490566,0.05660377358490566,0.04716981132075471,0.04716981132075471,0.04716981132075471,0.03773584905660378,0.03773584905660378,0.03773584905660378,0.03773584905660378,0.03773584905660378,0.03773584905660378,0.03773584905660378,0.03773584905660378,0.02830188679245283,0.02830188679245283,0.02830188679245283,0.01886792452830189,0.01886792452830189,0.01886792452830189,0.01886792452830189,0.01886792452830189,0.01886792452830189,0.009433962264150945,0.009433962264150945,0.009433962264150945,0.009433962264150945,0.009433962264150945,0.009433962264150945,0.009433962264150945,0.009433962264150945,0.0],\"xaxis\":\"x\",\"y\":[1.0,1.0,1.0,1.0,1.0,1.0,1.0,1.0,1.0,1.0,1.0,1.0,1.0,1.0,1.0,0.9928571428571429,0.9928571428571429,0.9928571428571429,0.9928571428571429,0.9928571428571429,0.9928571428571429,0.9928571428571429,0.9857142857142857,0.9785714285714285,0.9714285714285714,0.9642857142857144,0.9571428571428571,0.9571428571428571,0.9571428571428571,0.9571428571428571,0.9500000000000001,0.9500000000000001,0.9500000000000001,0.942857142857143,0.9357142857142856,0.9285714285714286,0.9285714285714286,0.9214285714285715,0.9214285714285715,0.9214285714285715,0.9214285714285715,0.9142857142857143,0.9142857142857143,0.9142857142857143,0.9142857142857143,0.9142857142857143,0.9071428571428571,0.9071428571428571,0.9071428571428571,0.9071428571428571,0.9,0.8928571428571429,0.8857142857142857,0.8857142857142857,0.8857142857142857,0.8785714285714286,0.8785714285714286,0.8714285714285714,0.8642857142857143,0.8642857142857143,0.8642857142857143,0.8571428571428571,0.8571428571428571,0.8571428571428571,0.8571428571428571,0.8500000000000001,0.8428571428571429,0.8428571428571429,0.8428571428571429,0.8357142857142857,0.8285714285714286,0.8285714285714286,0.8285714285714286,0.8214285714285714,0.8214285714285714,0.8214285714285714,0.8214285714285714,0.8142857142857144,0.8142857142857144,0.8071428571428572,0.7999999999999999,0.7999999999999999,0.7999999999999999,0.7999999999999999,0.7999999999999999,0.7928571428571429,0.7857142857142857,0.7857142857142857,0.7785714285714286,0.7785714285714286,0.7785714285714286,0.7785714285714286,0.7714285714285715,0.7642857142857142,0.7571428571428572,0.75,0.75,0.7428571428571429,0.7428571428571429,0.7357142857142858,0.7357142857142858,0.7285714285714285,0.7285714285714285,0.7285714285714285,0.7214285714285714,0.7214285714285714,0.7142857142857143,0.7071428571428572,0.7000000000000001,0.6928571428571428,0.6857142857142857,0.6857142857142857,0.6857142857142857,0.6857142857142857,0.6785714285714286,0.6714285714285715,0.6642857142857143,0.6642857142857143,0.6642857142857143,0.6642857142857143,0.6571428571428571,0.65,0.6428571428571429,0.6357142857142858,0.6357142857142858,0.6285714285714286,0.6214285714285714,0.6142857142857143,0.6142857142857143,0.6071428571428571,0.6000000000000001,0.5928571428571429,0.5857142857142857,0.5857142857142857,0.5785714285714286,0.5714285714285714,0.5642857142857144,0.5571428571428572,0.5571428571428572,0.5571428571428572,0.5571428571428572,0.5499999999999999,0.5499999999999999,0.5499999999999999,0.5428571428571429,0.5357142857142857,0.5285714285714286,0.5285714285714286,0.5285714285714286,0.5285714285714286,0.5214285714285715,0.5214285714285715,0.5142857142857142,0.5071428571428572,0.5,0.49285714285714294,0.4857142857142857,0.47857142857142854,0.4714285714285715,0.4642857142857143,0.4571428571428572,0.4571428571428572,0.4571428571428572,0.45,0.44285714285714284,0.44285714285714284,0.4357142857142857,0.42857142857142855,0.42142857142857143,0.4142857142857143,0.4071428571428572,0.39999999999999997,0.39999999999999997,0.39285714285714285,0.38571428571428573,0.3785714285714286,0.37142857142857144,0.36428571428571427,0.36428571428571427,0.35714285714285715,0.35714285714285715,0.35000000000000003,0.34285714285714286,0.33571428571428574,0.33571428571428574,0.33571428571428574,0.32857142857142857,0.32142857142857145,0.32142857142857145,0.3142857142857143,0.30714285714285716,0.30000000000000004,0.29285714285714287,0.2857142857142857,0.2785714285714286,0.27142857142857146,0.2642857142857143,0.2642857142857143,0.2571428571428571,0.25,0.24285714285714285,0.23571428571428574,0.2285714285714286,0.22142857142857142,0.21428571428571427,0.20714285714285716,0.19999999999999998,0.19999999999999998,0.19999999999999998,0.19285714285714287,0.18571428571428572,0.17857142857142858,0.17142857142857143,0.16428571428571428,0.16428571428571428,0.15714285714285714,0.15000000000000002,0.15000000000000002,0.14285714285714285,0.13571428571428573,0.12857142857142856,0.12142857142857143,0.1142857142857143,0.10714285714285714,0.09999999999999999,0.09999999999999999,0.09285714285714286,0.0857142857142857,0.0857142857142857,0.07857142857142857,0.07142857142857142,0.06428571428571428,0.05714285714285715,0.049999999999999996,0.049999999999999996,0.04285714285714286,0.03571428571428571,0.028571428571428574,0.02142857142857143,0.014285714285714285,0.0071428571428571435,0.0,0.0],\"yaxis\":\"y\",\"type\":\"scatter\"}],                        {\"template\":{\"data\":{\"bar\":[{\"error_x\":{\"color\":\"#2a3f5f\"},\"error_y\":{\"color\":\"#2a3f5f\"},\"marker\":{\"line\":{\"color\":\"#E5ECF6\",\"width\":0.5},\"pattern\":{\"fillmode\":\"overlay\",\"size\":10,\"solidity\":0.2}},\"type\":\"bar\"}],\"barpolar\":[{\"marker\":{\"line\":{\"color\":\"#E5ECF6\",\"width\":0.5},\"pattern\":{\"fillmode\":\"overlay\",\"size\":10,\"solidity\":0.2}},\"type\":\"barpolar\"}],\"carpet\":[{\"aaxis\":{\"endlinecolor\":\"#2a3f5f\",\"gridcolor\":\"white\",\"linecolor\":\"white\",\"minorgridcolor\":\"white\",\"startlinecolor\":\"#2a3f5f\"},\"baxis\":{\"endlinecolor\":\"#2a3f5f\",\"gridcolor\":\"white\",\"linecolor\":\"white\",\"minorgridcolor\":\"white\",\"startlinecolor\":\"#2a3f5f\"},\"type\":\"carpet\"}],\"choropleth\":[{\"colorbar\":{\"outlinewidth\":0,\"ticks\":\"\"},\"type\":\"choropleth\"}],\"contour\":[{\"colorbar\":{\"outlinewidth\":0,\"ticks\":\"\"},\"colorscale\":[[0.0,\"#0d0887\"],[0.1111111111111111,\"#46039f\"],[0.2222222222222222,\"#7201a8\"],[0.3333333333333333,\"#9c179e\"],[0.4444444444444444,\"#bd3786\"],[0.5555555555555556,\"#d8576b\"],[0.6666666666666666,\"#ed7953\"],[0.7777777777777778,\"#fb9f3a\"],[0.8888888888888888,\"#fdca26\"],[1.0,\"#f0f921\"]],\"type\":\"contour\"}],\"contourcarpet\":[{\"colorbar\":{\"outlinewidth\":0,\"ticks\":\"\"},\"type\":\"contourcarpet\"}],\"heatmap\":[{\"colorbar\":{\"outlinewidth\":0,\"ticks\":\"\"},\"colorscale\":[[0.0,\"#0d0887\"],[0.1111111111111111,\"#46039f\"],[0.2222222222222222,\"#7201a8\"],[0.3333333333333333,\"#9c179e\"],[0.4444444444444444,\"#bd3786\"],[0.5555555555555556,\"#d8576b\"],[0.6666666666666666,\"#ed7953\"],[0.7777777777777778,\"#fb9f3a\"],[0.8888888888888888,\"#fdca26\"],[1.0,\"#f0f921\"]],\"type\":\"heatmap\"}],\"heatmapgl\":[{\"colorbar\":{\"outlinewidth\":0,\"ticks\":\"\"},\"colorscale\":[[0.0,\"#0d0887\"],[0.1111111111111111,\"#46039f\"],[0.2222222222222222,\"#7201a8\"],[0.3333333333333333,\"#9c179e\"],[0.4444444444444444,\"#bd3786\"],[0.5555555555555556,\"#d8576b\"],[0.6666666666666666,\"#ed7953\"],[0.7777777777777778,\"#fb9f3a\"],[0.8888888888888888,\"#fdca26\"],[1.0,\"#f0f921\"]],\"type\":\"heatmapgl\"}],\"histogram\":[{\"marker\":{\"pattern\":{\"fillmode\":\"overlay\",\"size\":10,\"solidity\":0.2}},\"type\":\"histogram\"}],\"histogram2d\":[{\"colorbar\":{\"outlinewidth\":0,\"ticks\":\"\"},\"colorscale\":[[0.0,\"#0d0887\"],[0.1111111111111111,\"#46039f\"],[0.2222222222222222,\"#7201a8\"],[0.3333333333333333,\"#9c179e\"],[0.4444444444444444,\"#bd3786\"],[0.5555555555555556,\"#d8576b\"],[0.6666666666666666,\"#ed7953\"],[0.7777777777777778,\"#fb9f3a\"],[0.8888888888888888,\"#fdca26\"],[1.0,\"#f0f921\"]],\"type\":\"histogram2d\"}],\"histogram2dcontour\":[{\"colorbar\":{\"outlinewidth\":0,\"ticks\":\"\"},\"colorscale\":[[0.0,\"#0d0887\"],[0.1111111111111111,\"#46039f\"],[0.2222222222222222,\"#7201a8\"],[0.3333333333333333,\"#9c179e\"],[0.4444444444444444,\"#bd3786\"],[0.5555555555555556,\"#d8576b\"],[0.6666666666666666,\"#ed7953\"],[0.7777777777777778,\"#fb9f3a\"],[0.8888888888888888,\"#fdca26\"],[1.0,\"#f0f921\"]],\"type\":\"histogram2dcontour\"}],\"mesh3d\":[{\"colorbar\":{\"outlinewidth\":0,\"ticks\":\"\"},\"type\":\"mesh3d\"}],\"parcoords\":[{\"line\":{\"colorbar\":{\"outlinewidth\":0,\"ticks\":\"\"}},\"type\":\"parcoords\"}],\"pie\":[{\"automargin\":true,\"type\":\"pie\"}],\"scatter\":[{\"marker\":{\"colorbar\":{\"outlinewidth\":0,\"ticks\":\"\"}},\"type\":\"scatter\"}],\"scatter3d\":[{\"line\":{\"colorbar\":{\"outlinewidth\":0,\"ticks\":\"\"}},\"marker\":{\"colorbar\":{\"outlinewidth\":0,\"ticks\":\"\"}},\"type\":\"scatter3d\"}],\"scattercarpet\":[{\"marker\":{\"colorbar\":{\"outlinewidth\":0,\"ticks\":\"\"}},\"type\":\"scattercarpet\"}],\"scattergeo\":[{\"marker\":{\"colorbar\":{\"outlinewidth\":0,\"ticks\":\"\"}},\"type\":\"scattergeo\"}],\"scattergl\":[{\"marker\":{\"colorbar\":{\"outlinewidth\":0,\"ticks\":\"\"}},\"type\":\"scattergl\"}],\"scattermapbox\":[{\"marker\":{\"colorbar\":{\"outlinewidth\":0,\"ticks\":\"\"}},\"type\":\"scattermapbox\"}],\"scatterpolar\":[{\"marker\":{\"colorbar\":{\"outlinewidth\":0,\"ticks\":\"\"}},\"type\":\"scatterpolar\"}],\"scatterpolargl\":[{\"marker\":{\"colorbar\":{\"outlinewidth\":0,\"ticks\":\"\"}},\"type\":\"scatterpolargl\"}],\"scatterternary\":[{\"marker\":{\"colorbar\":{\"outlinewidth\":0,\"ticks\":\"\"}},\"type\":\"scatterternary\"}],\"surface\":[{\"colorbar\":{\"outlinewidth\":0,\"ticks\":\"\"},\"colorscale\":[[0.0,\"#0d0887\"],[0.1111111111111111,\"#46039f\"],[0.2222222222222222,\"#7201a8\"],[0.3333333333333333,\"#9c179e\"],[0.4444444444444444,\"#bd3786\"],[0.5555555555555556,\"#d8576b\"],[0.6666666666666666,\"#ed7953\"],[0.7777777777777778,\"#fb9f3a\"],[0.8888888888888888,\"#fdca26\"],[1.0,\"#f0f921\"]],\"type\":\"surface\"}],\"table\":[{\"cells\":{\"fill\":{\"color\":\"#EBF0F8\"},\"line\":{\"color\":\"white\"}},\"header\":{\"fill\":{\"color\":\"#C8D4E3\"},\"line\":{\"color\":\"white\"}},\"type\":\"table\"}]},\"layout\":{\"annotationdefaults\":{\"arrowcolor\":\"#2a3f5f\",\"arrowhead\":0,\"arrowwidth\":1},\"autotypenumbers\":\"strict\",\"coloraxis\":{\"colorbar\":{\"outlinewidth\":0,\"ticks\":\"\"}},\"colorscale\":{\"diverging\":[[0,\"#8e0152\"],[0.1,\"#c51b7d\"],[0.2,\"#de77ae\"],[0.3,\"#f1b6da\"],[0.4,\"#fde0ef\"],[0.5,\"#f7f7f7\"],[0.6,\"#e6f5d0\"],[0.7,\"#b8e186\"],[0.8,\"#7fbc41\"],[0.9,\"#4d9221\"],[1,\"#276419\"]],\"sequential\":[[0.0,\"#0d0887\"],[0.1111111111111111,\"#46039f\"],[0.2222222222222222,\"#7201a8\"],[0.3333333333333333,\"#9c179e\"],[0.4444444444444444,\"#bd3786\"],[0.5555555555555556,\"#d8576b\"],[0.6666666666666666,\"#ed7953\"],[0.7777777777777778,\"#fb9f3a\"],[0.8888888888888888,\"#fdca26\"],[1.0,\"#f0f921\"]],\"sequentialminus\":[[0.0,\"#0d0887\"],[0.1111111111111111,\"#46039f\"],[0.2222222222222222,\"#7201a8\"],[0.3333333333333333,\"#9c179e\"],[0.4444444444444444,\"#bd3786\"],[0.5555555555555556,\"#d8576b\"],[0.6666666666666666,\"#ed7953\"],[0.7777777777777778,\"#fb9f3a\"],[0.8888888888888888,\"#fdca26\"],[1.0,\"#f0f921\"]]},\"colorway\":[\"#636efa\",\"#EF553B\",\"#00cc96\",\"#ab63fa\",\"#FFA15A\",\"#19d3f3\",\"#FF6692\",\"#B6E880\",\"#FF97FF\",\"#FECB52\"],\"font\":{\"color\":\"#2a3f5f\"},\"geo\":{\"bgcolor\":\"white\",\"lakecolor\":\"white\",\"landcolor\":\"#E5ECF6\",\"showlakes\":true,\"showland\":true,\"subunitcolor\":\"white\"},\"hoverlabel\":{\"align\":\"left\"},\"hovermode\":\"closest\",\"mapbox\":{\"style\":\"light\"},\"paper_bgcolor\":\"white\",\"plot_bgcolor\":\"#E5ECF6\",\"polar\":{\"angularaxis\":{\"gridcolor\":\"white\",\"linecolor\":\"white\",\"ticks\":\"\"},\"bgcolor\":\"#E5ECF6\",\"radialaxis\":{\"gridcolor\":\"white\",\"linecolor\":\"white\",\"ticks\":\"\"}},\"scene\":{\"xaxis\":{\"backgroundcolor\":\"#E5ECF6\",\"gridcolor\":\"white\",\"gridwidth\":2,\"linecolor\":\"white\",\"showbackground\":true,\"ticks\":\"\",\"zerolinecolor\":\"white\"},\"yaxis\":{\"backgroundcolor\":\"#E5ECF6\",\"gridcolor\":\"white\",\"gridwidth\":2,\"linecolor\":\"white\",\"showbackground\":true,\"ticks\":\"\",\"zerolinecolor\":\"white\"},\"zaxis\":{\"backgroundcolor\":\"#E5ECF6\",\"gridcolor\":\"white\",\"gridwidth\":2,\"linecolor\":\"white\",\"showbackground\":true,\"ticks\":\"\",\"zerolinecolor\":\"white\"}},\"shapedefaults\":{\"line\":{\"color\":\"#2a3f5f\"}},\"ternary\":{\"aaxis\":{\"gridcolor\":\"white\",\"linecolor\":\"white\",\"ticks\":\"\"},\"baxis\":{\"gridcolor\":\"white\",\"linecolor\":\"white\",\"ticks\":\"\"},\"bgcolor\":\"#E5ECF6\",\"caxis\":{\"gridcolor\":\"white\",\"linecolor\":\"white\",\"ticks\":\"\"}},\"title\":{\"x\":0.05},\"xaxis\":{\"automargin\":true,\"gridcolor\":\"white\",\"linecolor\":\"white\",\"ticks\":\"\",\"title\":{\"standoff\":15},\"zerolinecolor\":\"white\",\"zerolinewidth\":2},\"yaxis\":{\"automargin\":true,\"gridcolor\":\"white\",\"linecolor\":\"white\",\"ticks\":\"\",\"title\":{\"standoff\":15},\"zerolinecolor\":\"white\",\"zerolinewidth\":2}}},\"xaxis\":{\"anchor\":\"y\",\"domain\":[0.0,1.0],\"title\":{\"text\":\"False Positive Ratio (FPR)\"},\"range\":[0,1]},\"yaxis\":{\"anchor\":\"x\",\"domain\":[0.0,1.0],\"title\":{\"text\":\"True Positive Ratio (TPR)\"},\"range\":[0,1]},\"legend\":{\"tracegroupgap\":0},\"margin\":{\"t\":60},\"width\":500,\"height\":400,\"shapes\":[{\"line\":{\"color\":\"red\",\"dash\":\"dot\",\"width\":2},\"type\":\"line\",\"x0\":0,\"x1\":1,\"y0\":0,\"y1\":1},{\"editable\":true,\"line\":{\"color\":\"red\"},\"x0\":0.38122641509433963,\"x1\":0.42122641509433967,\"xref\":\"x\",\"y0\":0.7485714285714286,\"y1\":0.7985714285714286,\"yref\":\"y\"}]},                        {\"responsive\": true}                    ).then(function(){\n",
       "                            \n",
       "var gd = document.getElementById('90dbfdc5-4487-409a-b414-0932f398b23d');\n",
       "var x = new MutationObserver(function (mutations, observer) {{\n",
       "        var display = window.getComputedStyle(gd).display;\n",
       "        if (!display || display === 'none') {{\n",
       "            console.log([gd, 'removed!']);\n",
       "            Plotly.purge(gd);\n",
       "            observer.disconnect();\n",
       "        }}\n",
       "}});\n",
       "\n",
       "// Listen for the removal of the full notebook cells\n",
       "var notebookContainer = gd.closest('#notebook-container');\n",
       "if (notebookContainer) {{\n",
       "    x.observe(notebookContainer, {childList: true});\n",
       "}}\n",
       "\n",
       "// Listen for the clearing of the current output cell\n",
       "var outputEl = gd.closest('.output');\n",
       "if (outputEl) {{\n",
       "    x.observe(outputEl, {childList: true});\n",
       "}}\n",
       "\n",
       "                        })                };                });            </script>        </div>"
      ]
     },
     "metadata": {},
     "output_type": "display_data"
    },
    {
     "name": "stdout",
     "output_type": "stream",
     "text": [
      "91\n",
      "0.39622641509433965\n",
      "0.7785714285714286\n"
     ]
    }
   ],
   "source": [
    "d = {'kappa_vals': kappa_vals, 'fpr_vals': fpr_vals, 'tpr_vals': tpr_vals}\n",
    "df = pd.DataFrame(data=d)\n",
    "opt_fpr = tpr_vals[kappa_index]\n",
    "opt_tpr = fpr_vals[kappa_index]\n",
    "\n",
    "fig = px.line(df, x=\"fpr_vals\", y=\"tpr_vals\")\n",
    "fig.update_layout(width=500, height=400)\n",
    "fig.update_yaxes(range=[0, 1], title=\"True Positive Ratio (TPR)\")\n",
    "fig.update_xaxes(range=[0, 1], title='False Positive Ratio (FPR)')\n",
    "fig.add_shape(type=\"line\",\n",
    "              x0=0, y0=0, x1=1, y1=1,\n",
    "              line=dict(color=\"red\", width=2, dash=\"dot\"))\n",
    "fig.add_shape(editable=True,\n",
    "              x0=opt_tpr-0.015, x1=opt_tpr+0.025, y0=opt_fpr-0.03, y1=opt_fpr+0.02,\n",
    "              xref='x', yref='y', line_color='red')\n",
    "\n",
    "fig.show()\n",
    "\n",
    "print(kappa_index)\n",
    "print(fpr_vals[kappa_index])\n",
    "print(tpr_vals[kappa_index])"
   ]
  },
  {
   "cell_type": "code",
   "execution_count": 176,
   "id": "79053b29-750b-44d8-9d49-02882d49f4d6",
   "metadata": {},
   "outputs": [
    {
     "data": {
      "text/plain": [
       "0.38234501347708894"
      ]
     },
     "execution_count": 176,
     "metadata": {},
     "output_type": "execute_result"
    }
   ],
   "source": [
    "tpr_vals[kappa_index] - fpr_vals[kappa_index]"
   ]
  }
 ],
 "metadata": {
  "kernelspec": {
   "display_name": "Python 3 (ipykernel)",
   "language": "python",
   "name": "python3"
  },
  "language_info": {
   "codemirror_mode": {
    "name": "ipython",
    "version": 3
   },
   "file_extension": ".py",
   "mimetype": "text/x-python",
   "name": "python",
   "nbconvert_exporter": "python",
   "pygments_lexer": "ipython3",
   "version": "3.8.8"
  }
 },
 "nbformat": 4,
 "nbformat_minor": 5
}
